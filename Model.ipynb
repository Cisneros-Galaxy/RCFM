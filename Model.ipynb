{
 "cells": [
  {
   "cell_type": "code",
   "execution_count": 1,
   "metadata": {},
   "outputs": [],
   "source": [
    "import numpy as np\n",
    "import matplotlib.pyplot as plt\n",
    "from scipy.interpolate import interp1d\n",
    "from math import sqrt\n",
    "\n",
    "import DataAid\n",
    "import Neros"
   ]
  },
  {
   "cell_type": "code",
   "execution_count": 2,
   "metadata": {},
   "outputs": [],
   "source": [
    "# Collect the data from each of the folders\n",
    "sparcGalaxies = DataAid.GetGalaxyData(\"data/Sparc/Rotmod_LTG/\")\n",
    "xueSofueGalaxies = DataAid.GetGalaxyData(\"data/XueSofue/\")"
   ]
  },
  {
   "cell_type": "code",
   "execution_count": 3,
   "metadata": {},
   "outputs": [],
   "source": [
    "# Get the galaxies we want from each source\n",
    "NGC5371 = np.array(sparcGalaxies['NGC5371_rotmod'])\n",
    "MWXueSofue = np.array(xueSofueGalaxies['MW_lum'])"
   ]
  },
  {
   "cell_type": "code",
   "execution_count": 4,
   "metadata": {},
   "outputs": [],
   "source": [
    "NGC5371_rad = NGC5371[:,0]\n",
    "NGC5371_Vobs = NGC5371[:,1]\n",
    "NGC5371_gas = NGC5371[:,3]\n",
    "NGC5371_disk = NGC5371[:,4]\n",
    "NGC5371_bulge = NGC5371[:,5]\n",
    "NGC5371_VlumSquared = Neros.VlumSquared(NGC5371_gas, NGC5371_disk, NGC5371_bulge)\n",
    "NGC5371_Vlum = NGC5371_VlumSquared**(1.0/2.0)\n",
    "\n",
    "MW_rad = MWXueSofue[:,0]\n",
    "MW_Vlum = MWXueSofue[:,1]\n",
    "# Interpolation function\n",
    "MW_Vlum_interp_func = interp1d(MW_rad, MW_Vlum, kind='cubic')"
   ]
  },
  {
   "cell_type": "code",
   "execution_count": 11,
   "metadata": {},
   "outputs": [
    {
     "name": "stdout",
     "output_type": "stream",
     "text": [
      "Milky Way Phi: \n",
      "[2.33423939e-07 3.59252726e-07 4.44278142e-07 5.05665900e-07\n",
      " 5.52840635e-07 6.18635676e-07 6.63772075e-07 6.94881166e-07\n",
      " 7.19101950e-07 7.37655044e-07 7.52303725e-07 7.63724925e-07\n",
      " 7.73535967e-07 7.81786526e-07 7.88530927e-07 7.94590777e-07\n",
      " 7.99845781e-07 8.04456741e-07]\n",
      "Other Phi: \n",
      "[4.12377692e-07 6.63745595e-07 8.54438224e-07 1.00318868e-06\n",
      " 1.13252936e-06 1.38662715e-06 1.61431664e-06 1.78868843e-06\n",
      " 1.94265970e-06 2.06943066e-06 2.16815876e-06 2.24238911e-06\n",
      " 2.30469647e-06 2.35613774e-06 2.39628843e-06 2.43133581e-06\n",
      " 2.46117013e-06 2.48696927e-06]\n",
      "Beta: \n",
      "[0.000803   0.0007752  0.00078513 0.00081253 0.00081773 0.00084333\n",
      " 0.00093935 0.00100355 0.00099316 0.00099305 0.00096899 0.0009111\n",
      " 0.00085254 0.00080377 0.00076476 0.0007191  0.00068349 0.00065385\n",
      " 0.00062889]\n",
      "Vlcm: \n",
      "[   -6.5596616    -19.66462078   -35.87200802   -54.14002121\n",
      "   -73.54572076  -126.7547912   -197.20016846  -279.37856853\n",
      "  -366.9782817   -462.80430112  -571.58832807  -678.95883888\n",
      "  -783.59980014  -880.86194465  -985.39643755 -1081.8927987\n",
      " -1171.96834135 -1255.68204073]\n"
     ]
    }
   ],
   "source": [
    "Vlcm = Neros.Vlcm(NGC5371_rad, MW_Vlum_interp_func(NGC5371_rad), NGC5371_Vlum)\n",
    "print(\"Vlcm: \")\n",
    "print(Vlcm)"
   ]
  },
  {
   "cell_type": "code",
   "execution_count": 9,
   "metadata": {},
   "outputs": [
    {
     "data": {
      "image/png": "[encoded data removed]",
      "text/plain": [
       "<Figure size 432x288 with 1 Axes>"
      ]
     },
     "metadata": {
      "needs_background": "light"
     },
     "output_type": "display_data"
    }
   ],
   "source": [
    "plt.plot(NGC5371_rad[1:], Vlcm)\n",
    "plt.show()"
   ]
  },
  {
   "cell_type": "code",
   "execution_count": null,
   "metadata": {},
   "outputs": [],
   "source": []
  }
 ],
 "metadata": {
  "kernelspec": {
   "display_name": "Python 3",
   "language": "python",
   "name": "python3"
  },
  "language_info": {
   "codemirror_mode": {
    "name": "ipython",
    "version": 3
   },
   "file_extension": ".py",
   "mimetype": "text/x-python",
   "name": "python",
   "nbconvert_exporter": "python",
   "pygments_lexer": "ipython3",
   "version": "3.6.8"
  }
 },
 "nbformat": 4,
 "nbformat_minor": 2
}
