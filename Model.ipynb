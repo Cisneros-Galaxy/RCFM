{
 "cells": [
  {
   "cell_type": "code",
   "execution_count": 1,
   "metadata": {},
   "outputs": [],
   "source": [
    "import numpy as np\n",
    "import matplotlib.pyplot as plt\n",
    "from scipy.interpolate import interp1d\n",
    "from scipy.optimize import curve_fit\n",
    "from math import sqrt\n",
    "\n",
    "import DataAid\n",
    "import Neros"
   ]
  },
  {
   "cell_type": "code",
   "execution_count": 2,
   "metadata": {},
   "outputs": [
    {
     "ename": "UnicodeDecodeError",
     "evalue": "'utf-8' codec can't decode byte 0x80 in position 3131: invalid start byte",
     "output_type": "error",
     "traceback": [
      "\u001b[0;31m---------------------------------------------------------------------------\u001b[0m",
      "\u001b[0;31mUnicodeDecodeError\u001b[0m                        Traceback (most recent call last)",
      "\u001b[0;32m<ipython-input-2-b345513075b3>\u001b[0m in \u001b[0;36m<module>\u001b[0;34m()\u001b[0m\n\u001b[1;32m      3\u001b[0m \u001b[0;31m#littleDataGalaxies = DataAid.GetGalaxyData(\"data/little-data-things/\")\u001b[0m\u001b[0;34m\u001b[0m\u001b[0;34m\u001b[0m\u001b[0m\n\u001b[1;32m      4\u001b[0m \u001b[0;31m#lcmGalaxies = DataAid.GetGalaxyData(\"data/LCMFits/\")\u001b[0m\u001b[0;34m\u001b[0m\u001b[0;34m\u001b[0m\u001b[0m\n\u001b[0;32m----> 5\u001b[0;31m \u001b[0mxueSofueGalaxies\u001b[0m \u001b[0;34m=\u001b[0m \u001b[0mDataAid\u001b[0m\u001b[0;34m.\u001b[0m\u001b[0mGetGalaxyData\u001b[0m\u001b[0;34m(\u001b[0m\u001b[0;34m\"data/XueSofue/\"\u001b[0m\u001b[0;34m)\u001b[0m\u001b[0;34m\u001b[0m\u001b[0m\n\u001b[0m\u001b[1;32m      6\u001b[0m \u001b[0;31m# Get the galaxies we want from each source\u001b[0m\u001b[0;34m\u001b[0m\u001b[0;34m\u001b[0m\u001b[0m\n\u001b[1;32m      7\u001b[0m \u001b[0mMWXueSofue\u001b[0m \u001b[0;34m=\u001b[0m \u001b[0mnp\u001b[0m\u001b[0;34m.\u001b[0m\u001b[0marray\u001b[0m\u001b[0;34m(\u001b[0m\u001b[0mxueSofueGalaxies\u001b[0m\u001b[0;34m[\u001b[0m\u001b[0;34m'MW_lum'\u001b[0m\u001b[0;34m]\u001b[0m\u001b[0;34m)\u001b[0m\u001b[0;34m\u001b[0m\u001b[0m\n",
      "\u001b[0;32m~/Desktop/RCFM_Gen/RCFM/DataAid.py\u001b[0m in \u001b[0;36mGetGalaxyData\u001b[0;34m(galaxiesDirRelPath)\u001b[0m\n\u001b[1;32m     23\u001b[0m     \u001b[0mfile\u001b[0m \u001b[0;34m=\u001b[0m \u001b[0mopen\u001b[0m\u001b[0;34m(\u001b[0m\u001b[0mgalaxiesDirRelPath\u001b[0m \u001b[0;34m+\u001b[0m \u001b[0mfileName\u001b[0m\u001b[0;34m,\u001b[0m \u001b[0;34m\"r\"\u001b[0m\u001b[0;34m)\u001b[0m\u001b[0;34m\u001b[0m\u001b[0m\n\u001b[1;32m     24\u001b[0m     \u001b[0;31m# Convert the file string to an array of each line\u001b[0m\u001b[0;34m\u001b[0m\u001b[0;34m\u001b[0m\u001b[0m\n\u001b[0;32m---> 25\u001b[0;31m     \u001b[0mlines\u001b[0m \u001b[0;34m=\u001b[0m \u001b[0mfile\u001b[0m\u001b[0;34m.\u001b[0m\u001b[0mread\u001b[0m\u001b[0;34m(\u001b[0m\u001b[0;34m)\u001b[0m\u001b[0;34m.\u001b[0m\u001b[0msplitlines\u001b[0m\u001b[0;34m(\u001b[0m\u001b[0;34m)\u001b[0m\u001b[0;34m\u001b[0m\u001b[0m\n\u001b[0m\u001b[1;32m     26\u001b[0m     \u001b[0;31m# Cut off the first 3 lines which are just comments\u001b[0m\u001b[0;34m\u001b[0m\u001b[0;34m\u001b[0m\u001b[0m\n\u001b[1;32m     27\u001b[0m     \u001b[0mdataLines\u001b[0m \u001b[0;34m=\u001b[0m \u001b[0mlines\u001b[0m\u001b[0;34m[\u001b[0m\u001b[0;36m3\u001b[0m\u001b[0;34m:\u001b[0m\u001b[0;34m]\u001b[0m\u001b[0;34m\u001b[0m\u001b[0m\n",
      "\u001b[0;32m/anaconda3/lib/python3.7/codecs.py\u001b[0m in \u001b[0;36mdecode\u001b[0;34m(self, input, final)\u001b[0m\n\u001b[1;32m    320\u001b[0m         \u001b[0;31m# decode input (taking the buffer into account)\u001b[0m\u001b[0;34m\u001b[0m\u001b[0;34m\u001b[0m\u001b[0m\n\u001b[1;32m    321\u001b[0m         \u001b[0mdata\u001b[0m \u001b[0;34m=\u001b[0m \u001b[0mself\u001b[0m\u001b[0;34m.\u001b[0m\u001b[0mbuffer\u001b[0m \u001b[0;34m+\u001b[0m \u001b[0minput\u001b[0m\u001b[0;34m\u001b[0m\u001b[0m\n\u001b[0;32m--> 322\u001b[0;31m         \u001b[0;34m(\u001b[0m\u001b[0mresult\u001b[0m\u001b[0;34m,\u001b[0m \u001b[0mconsumed\u001b[0m\u001b[0;34m)\u001b[0m \u001b[0;34m=\u001b[0m \u001b[0mself\u001b[0m\u001b[0;34m.\u001b[0m\u001b[0m_buffer_decode\u001b[0m\u001b[0;34m(\u001b[0m\u001b[0mdata\u001b[0m\u001b[0;34m,\u001b[0m \u001b[0mself\u001b[0m\u001b[0;34m.\u001b[0m\u001b[0merrors\u001b[0m\u001b[0;34m,\u001b[0m \u001b[0mfinal\u001b[0m\u001b[0;34m)\u001b[0m\u001b[0;34m\u001b[0m\u001b[0m\n\u001b[0m\u001b[1;32m    323\u001b[0m         \u001b[0;31m# keep undecoded input until the next call\u001b[0m\u001b[0;34m\u001b[0m\u001b[0;34m\u001b[0m\u001b[0m\n\u001b[1;32m    324\u001b[0m         \u001b[0mself\u001b[0m\u001b[0;34m.\u001b[0m\u001b[0mbuffer\u001b[0m \u001b[0;34m=\u001b[0m \u001b[0mdata\u001b[0m\u001b[0;34m[\u001b[0m\u001b[0mconsumed\u001b[0m\u001b[0;34m:\u001b[0m\u001b[0;34m]\u001b[0m\u001b[0;34m\u001b[0m\u001b[0m\n",
      "\u001b[0;31mUnicodeDecodeError\u001b[0m: 'utf-8' codec can't decode byte 0x80 in position 3131: invalid start byte"
     ]
    }
   ],
   "source": [
    "# Collect the data from each of the folders\n",
    "sparcGalaxies = DataAid.GetGalaxyData(\"data/Sparc/Rotmod_LTG/\")\n",
    "#littleDataGalaxies = DataAid.GetGalaxyData(\"data/little-data-things/\")\n",
    "#lcmGalaxies = DataAid.GetGalaxyData(\"data/LCMFits/\")\n",
    "xueSofueGalaxies = DataAid.GetGalaxyData(\"data/XueSofue/\")\n",
    "# Get the galaxies we want from each source\n",
    "MWXueSofue = np.array(xueSofueGalaxies['MW_lum'])\n",
    "\n",
    "# chi squared function\n",
    "def chiSquared(observed, expected, error):\n",
    "    chiSquared = 0\n",
    "    \n",
    "    for i in range(len(observed)):\n",
    "        chiSquared = chiSquared + (((observed[i] - expected[i])**2) / (error[i]**2))\n",
    "        \n",
    "    return chiSquared / len(observed)\n",
    "\n",
    "# Fit function\n",
    "def simple(independents, alpha, vLumFreeParam, phiZero):\n",
    "    # Parse out data for the galaxy\n",
    "    rad,vLum = independents\n",
    "    # Apply the vLum free param to the data\n",
    "    vLum = vLum*vLumFreeParam\n",
    "    # Calc vLCM with alpha free param\n",
    "    vLcm = Neros.vLcm(rad, MW_vLum_interp_func(rad), vLum, phiZero)\n",
    "    # Calc and return vNeros\n",
    "    return Neros.vNeros(vLum, vLcm, alpha)"
   ]
  },
  {
   "cell_type": "markdown",
   "metadata": {},
   "source": [
    "## Create the Milky Way interpolation function"
   ]
  },
  {
   "cell_type": "code",
   "execution_count": null,
   "metadata": {},
   "outputs": [],
   "source": [
    "MW_rad = MWXueSofue[:,0]\n",
    "MW_vLum = MWXueSofue[:,1]\n",
    "# Interpolation function\n",
    "MW_vLum_interp_func = interp1d(MW_rad, MW_vLum, kind='cubic')"
   ]
  },
  {
   "cell_type": "markdown",
   "metadata": {},
   "source": [
    "## Running VNeros on every galaxy\n",
    "We calculate vNeros for each galaxy and then plot the ratio between vNeros and the galaxy's vObs"
   ]
  },
  {
   "cell_type": "code",
   "execution_count": null,
   "metadata": {},
   "outputs": [],
   "source": [
    "# This is where the fitted alpha & vlum free parameter will be written for each galaxy\n",
    "out_file = \"imported-data/data.csv\"\n",
    "with open(out_file, 'w') as f:\n",
    "    f.write('{0},{1},{2}\\n'.format(\"Galaxy\", \"Alpha\", \"Beta\"))\n",
    "f.close()\n",
    "\n",
    "vLcmList = []\n",
    "\n",
    "avgChiSquared = 0.0\n",
    "avgPhiZero = 0.0\n",
    "\n",
    "# Change this and uncomment if statement below if just one galaxy is desired.\n",
    "galaxyWeWant = \"NGC3198_rotmod\"\n",
    "\n",
    "for galaxyName in sparcGalaxies:\n",
    "    # Uncomment the following two lines to produce data and graphs for just galaxyWeWant\n",
    "    if (galaxyName != galaxyWeWant):\n",
    "        continue\n",
    "    \n",
    "    # data on this galaxy\n",
    "    f, ax = plt.subplots(1, figsize = (15, 15))\n",
    "    galaxy = np.array(sparcGalaxies[galaxyName])\n",
    "    galaxy_rad = galaxy[:,0]\n",
    "    galaxy_vObs = galaxy[:,1]\n",
    "    galaxy_error = galaxy[:,2]\n",
    "    galaxy_gas = galaxy[:,3]\n",
    "    galaxy_disk = galaxy[:,4]\n",
    "    galaxy_bulge = galaxy[:,5]\n",
    "    galaxy_vLumSquared = Neros.vLumSquared(galaxy_gas, galaxy_disk, galaxy_bulge)\n",
    "    galaxy_vLum = np.sqrt(galaxy_vLumSquared)\n",
    "    \n",
    "    # Make sure the arrays are matching lengths\n",
    "    maxMWRad = MW_rad[len(MW_rad)-1]\n",
    "    for i in range(len(galaxy_rad)):\n",
    "        if galaxy_rad[i] > maxMWRad:\n",
    "            galaxy_rad = galaxy_rad[:i]\n",
    "            galaxy_vLum = galaxy_vLum[:i]\n",
    "            galaxy_vObs = galaxy_vObs[:i]\n",
    "            break\n",
    "    \n",
    "    # fitter\n",
    "    vals, cov = curve_fit(simple,(galaxy_rad, galaxy_vLum),galaxy_vObs)\n",
    "    fittedAlpha, fittedVLumFreeParam, fittedPhiZero = vals\n",
    "\n",
    "    avgPhiZero = avgPhiZero + fittedPhiZero\n",
    "    \n",
    "    # Run vLCM\n",
    "    vLcm = Neros.vLcm(galaxy_rad, MW_vLum_interp_func(galaxy_rad), galaxy_vLum, fittedPhiZero)\n",
    "    vLcmList.append(vLcm)\n",
    "    vNeros = simple((galaxy_rad, galaxy_vLum), fittedAlpha, fittedVLumFreeParam, fittedPhiZero)\n",
    "    ratio = vNeros/galaxy_vObs\n",
    "    \n",
    "    # printing to file & console\n",
    "    chiSquare = chiSquared(galaxy_vObs, vNeros, galaxy_error)\n",
    "    avgChiSquared = avgChiSquared + chiSquare\n",
    "    print(f\"galaxyName is: {galaxyName}\")\n",
    "    \n",
    "    print(f\"chiSquare is: {chiSquare}\")\n",
    "    \n",
    "    print(f\"fittedAlpha is: {fittedAlpha}, \\nfittedVLumFreeParam is: {fittedVLumFreeParam}\")\n",
    "    \n",
    "    # print(f\"MW_Phi is: {Neros.phi(galaxy_rad, MW_vLum_interp_func(galaxy_rad))}\")\n",
    "    \n",
    "    # print(f\"Other_Phi is: {Neros.phi(galaxy_rad, galaxy_vLum)}\")\n",
    "    \n",
    "    print(\"--------------------------\")\n",
    "    \n",
    "    # Write galaxyName, fittedAlpha, fittedVLumFreeParam to file\n",
    "    with open(out_file, 'a') as f:\n",
    "        f.write('{0},{1},{2}\\n'.format(galaxyName, fittedAlpha, fittedVLumFreeParam))\n",
    "    f.close()\n",
    "    \n",
    "    # Calculate galaxy_vObs plus error and put into list\n",
    "    galaxy_vObs_err_incl = []\n",
    "    for i in range(len(galaxy_vObs)):\n",
    "        galaxy_vObs_err_incl.append(galaxy_vObs[i] + galaxy_error[i])\n",
    "        \n",
    "    # calculate new vLum\n",
    "    galaxy_vLum_updated = []\n",
    "    for i in range(len(galaxy_vLum)):\n",
    "        galaxy_vLum_updated.append(galaxy_vLum[i] * fittedVLumFreeParam)\n",
    "        \n",
    "    # plot\n",
    "    # y-axis scales to the maximum velocity value in the list galaxy_vObs_err_incl\n",
    "    # or to the maximum value in the list vNeros, whichever is the bigger number\n",
    "    y_max = max(max(galaxy_vObs_err_incl), max(vNeros))\n",
    "    ax.set_ylim(bottom = 0, top = y_max + 15)\n",
    "    \n",
    "    # plot vObs and vNeros and updated vLum\n",
    "    ax.plot(galaxy_rad, vNeros, label=\"{}_vNeros\".format(galaxyName))\n",
    "    ax.plot(galaxy_rad, galaxy_vObs, label=\"{}_vObs\".format(galaxyName))\n",
    "    ax.plot(galaxy_rad, galaxy_vLum_updated, label=\"{}_new_vLum\".format(galaxyName))\n",
    "    \n",
    "    # error bar in vObs\n",
    "    for i in range(len(galaxy_rad)):\n",
    "        ax.vlines(galaxy_rad[i], galaxy_vObs[i] - galaxy_error[i], galaxy_vObs[i] + galaxy_error[i])\n",
    "        \n",
    "    ax.legend(loc=\"upper right\")\n",
    "\n",
    "    graph_file_name = \"graphs/\" + str(galaxyName)\n",
    "\n",
    "    plt.savefig(graph_file_name)\n",
    "\n",
    "print(avgChiSquared / len(sparcGalaxies))\n",
    "print(avgPhiZero / len(sparcGalaxies))\n",
    "    "
   ]
  },
  {
   "cell_type": "markdown",
   "metadata": {},
   "source": []
  },
  {
   "cell_type": "code",
   "execution_count": null,
   "metadata": {},
   "outputs": [],
   "source": []
  },
  {
   "cell_type": "code",
   "execution_count": null,
   "metadata": {},
   "outputs": [],
   "source": []
  },
  {
   "cell_type": "code",
   "execution_count": null,
   "metadata": {},
   "outputs": [],
   "source": []
  }
 ],
 "metadata": {
  "kernelspec": {
   "display_name": "Python 3",
   "language": "python",
   "name": "python3"
  },
  "language_info": {
   "codemirror_mode": {
    "name": "ipython",
    "version": 3
   },
   "file_extension": ".py",
   "mimetype": "text/x-python",
   "name": "python",
   "nbconvert_exporter": "python",
   "pygments_lexer": "ipython3",
   "version": "3.7.0"
  }
 },
 "nbformat": 4,
 "nbformat_minor": 2
}
