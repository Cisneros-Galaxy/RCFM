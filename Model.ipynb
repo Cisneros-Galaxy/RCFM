{
 "cells": [
  {
   "cell_type": "code",
   "execution_count": null,
   "metadata": {},
   "outputs": [],
   "source": [
    "import numpy as np\n",
    "import matplotlib.pyplot as plt\n",
    "from scipy.interpolate import interp1d\n",
    "from scipy.optimize import curve_fit\n",
    "from math import sqrt\n",
    "\n",
    "import DataAid\n",
    "import Neros"
   ]
  },
  {
   "cell_type": "code",
   "execution_count": null,
   "metadata": {},
   "outputs": [],
   "source": [
    "# Collect the data from each of the folders\n",
    "sparcGalaxies = DataAid.GetGalaxyData(\"data/Sparc/Rotmod_LTG/\")\n",
    "xueSofueGalaxies = DataAid.GetGalaxyData(\"data/XueSofue/\")\n",
    "# Get the galaxies we want from each source\n",
    "MWXueSofue = np.array(xueSofueGalaxies['MW_lum'])\n",
    "\n",
    "# chi squared function\n",
    "def chiSquared(observed, expected, error):\n",
    "    chiSquared = 0\n",
    "    \n",
    "    for i in range(len(observed)):\n",
    "        chiSquared = chiSquared + (((observed[i] - expected[i])**2) / (error[i]**2))\n",
    "        \n",
    "    return chiSquared / len(observed)\n",
    "\n",
    "# Fit function\n",
    "def simple(independents, alpha, vLumFreeParam):\n",
    "    # Parse out data for the galaxy\n",
    "    rad,vLum = independents\n",
    "    # Apply the vLum free param to the data\n",
    "    vLum = vLum*vLumFreeParam\n",
    "    # Calc vLCM with alpha free param\n",
    "    vLcm = Neros.vLcm(rad, MW_vLum_interp_func(rad), vLum)\n",
    "    # Calc and return vNeros\n",
    "    return Neros.vNeros(vLum, vLcm, alpha)"
   ]
  },
  {
   "cell_type": "markdown",
   "metadata": {},
   "source": [
    "## Create the Milky Way interpolation function"
   ]
  },
  {
   "cell_type": "code",
   "execution_count": null,
   "metadata": {},
   "outputs": [],
   "source": [
    "MW_rad = MWXueSofue[:,0]\n",
    "MW_vLum = MWXueSofue[:,1]\n",
    "# Interpolation function\n",
    "MW_vLum_interp_func = interp1d(MW_rad, MW_vLum, kind='cubic')"
   ]
  },
  {
   "cell_type": "markdown",
   "metadata": {},
   "source": [
    "## Running VNeros on every galaxy\n",
    "We calculate vNeros for each galaxy and then plot the ratio between vNeros and the galaxy's vObs"
   ]
  },
  {
   "cell_type": "code",
   "execution_count": null,
   "metadata": {},
   "outputs": [],
   "source": [
    "out_file = \"imported-data/data.csv\"\n",
    "\n",
    "#file = open(out_file, 'w')\n",
    "#file.write('{0},{1},{2}\\n'.format(\"Galaxy\", \"Alpha\", \"Beta\"))\n",
    "\n",
    "vLcmList = []\n",
    "\n",
    "\n",
    "galaxyWeWant = \"NGC2915_rotmod\"\n",
    "\n",
    "for galaxyName in sparcGalaxies:\n",
    "    f, ax = plt.subplots(1, figsize = (15, 15))\n",
    "    # change the name in \"\" to print only that galaxy\n",
    "    #if (galaxyName != galaxyWeWant):\n",
    "        #continue\n",
    "    \n",
    "    # data on this galaxy\n",
    "    galaxy = np.array(sparcGalaxies[galaxyName])\n",
    "    galaxy_rad = galaxy[:,0]\n",
    "    galaxy_vObs = galaxy[:,1]\n",
    "    galaxy_error = galaxy[:,2]\n",
    "    galaxy_gas = galaxy[:,3]\n",
    "    galaxy_disk = galaxy[:,4]\n",
    "    galaxy_bulge = galaxy[:,5]\n",
    "    galaxy_vLumSquared = Neros.vLumSquared(galaxy_gas, galaxy_disk, galaxy_bulge)\n",
    "    galaxy_vLum = np.sqrt(galaxy_vLumSquared)\n",
    "    \n",
    "    # Make sure the arrays are matching lengths\n",
    "    maxMWRad = MW_rad[len(MW_rad)-1]\n",
    "    for i in range(len(galaxy_rad)):\n",
    "        if galaxy_rad[i] > maxMWRad:\n",
    "            galaxy_rad = galaxy_rad[:i]\n",
    "            galaxy_vLum = galaxy_vLum[:i]\n",
    "            galaxy_vObs = galaxy_vObs[:i]\n",
    "            break\n",
    "    \n",
    "    # fitter\n",
    "    vals, cov = curve_fit(simple,(galaxy_rad, galaxy_vLum),galaxy_vObs)\n",
    "    fittedAlpha, fittedVLumFreeParam = vals\n",
    "\n",
    "    \n",
    "    # Run vLCM\n",
    "    vLcm = Neros.vLcm(galaxy_rad, MW_vLum_interp_func(galaxy_rad), galaxy_vLum )\n",
    "    vLcmList.append(vLcm)\n",
    "    vNeros = simple((galaxy_rad, galaxy_vLum), fittedAlpha, fittedVLumFreeParam)\n",
    "    ratio = vNeros/galaxy_vObs\n",
    "    \n",
    "    # printing to file\n",
    "    chiSquare = chiSquared(galaxy_vObs, vNeros, galaxy_error)\n",
    "    print(f\"galaxyName is: {galaxyName}\")\n",
    "    \n",
    "    print(f\"chiSquare is: {chiSquare}\")\n",
    "    \n",
    "    print(f\"fittedAlpha is: {fittedAlpha}, \\nfittedVLumFreeParam is: {fittedVLumFreeParam}\")\n",
    "    \n",
    "    #print('{0},{1},{2},{3}\\n'.format(galaxyName, fittedAlpha, fittedVLumFreeParam, chiSquare))\n",
    "    #file.write('{0},{1},{2}\\n'.format(galaxyName, fittedAlpha, fittedVLumFreeParam))\n",
    "    \n",
    "    # This is Meagan's write statement\n",
    "    with open(out_file, 'w') as f:\n",
    "        f.write('{0},{1},{2}\\n'.format(\"Galaxy\", \"Alpha\", \"Beta\"))\n",
    "        f.write('{0},{1},{2}\\n'.format(galaxyName, fittedAlpha, fittedVLumFreeParam))\n",
    "    f.close()\n",
    "    \n",
    "    \n",
    "    # plot\n",
    "    # scale of the plot\n",
    "    ax.set_ylim(bottom = 0, top = 200)\n",
    "    \n",
    "    # plot vObs and vNeros\n",
    "    ax.plot(galaxy_rad, vNeros, label=\"{}_vNeros\".format(galaxyName))\n",
    "    ax.plot(galaxy_rad, galaxy_vObs, label=\"{}_vObs\".format(galaxyName))\n",
    "    \n",
    "    # error bar in vObs\n",
    "    for i in range(len(galaxy_rad)):\n",
    "        ax.vlines(galaxy_rad[i], galaxy_vObs[i] - galaxy_error[i], galaxy_vObs[i] + galaxy_error[i])\n",
    "        \n",
    "    ax.legend(loc=\"upper right\")\n",
    "\n",
    "    graph_file_name = \"graphs/\" + str(galaxyName)\n",
    "\n",
    "    plt.savefig(graph_file_name)"
   ]
  },
  {
   "cell_type": "markdown",
   "metadata": {},
   "source": []
  },
  {
   "cell_type": "code",
   "execution_count": null,
   "metadata": {},
   "outputs": [],
   "source": []
  },
  {
   "cell_type": "code",
   "execution_count": null,
   "metadata": {},
   "outputs": [],
   "source": []
  },
  {
   "cell_type": "code",
   "execution_count": null,
   "metadata": {},
   "outputs": [],
   "source": []
  }
 ],
 "metadata": {
  "kernelspec": {
   "display_name": "Python 3",
   "language": "python",
   "name": "python3"
  },
  "language_info": {
   "codemirror_mode": {
    "name": "ipython",
    "version": 3
   },
   "file_extension": ".py",
   "mimetype": "text/x-python",
   "name": "python",
   "nbconvert_exporter": "python",
   "pygments_lexer": "ipython3",
   "version": "3.7.3"
  }
 },
 "nbformat": 4,
 "nbformat_minor": 2
}
