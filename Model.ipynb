{
 "cells": [
  {
   "cell_type": "code",
   "execution_count": 1,
   "metadata": {},
   "outputs": [],
   "source": [
    "import numpy as np\n",
    "import matplotlib.pyplot as plt\n",
    "from scipy.interpolate import interp1d\n",
    "from math import sqrt\n",
    "\n",
    "import DataAid\n",
    "import Neros"
   ]
  },
  {
   "cell_type": "code",
   "execution_count": 2,
   "metadata": {},
   "outputs": [],
   "source": [
    "# Collect the data from each of the folders\n",
    "sparcGalaxies = DataAid.GetGalaxyData(\"data/Sparc/Rotmod_LTG/\")\n",
    "xueSofueGalaxies = DataAid.GetGalaxyData(\"data/XueSofue/\")"
   ]
  },
  {
   "cell_type": "code",
   "execution_count": 3,
   "metadata": {},
   "outputs": [],
   "source": [
    "# Get the galaxies we want from each source\n",
    "NGC5371 = np.array(sparcGalaxies['NGC5371_rotmod'])\n",
    "MWXueSofue = np.array(xueSofueGalaxies['MW_lum'])"
   ]
  },
  {
   "cell_type": "code",
   "execution_count": 4,
   "metadata": {},
   "outputs": [],
   "source": [
    "NGC5371_rad = NGC5371[:,0]\n",
    "NGC5371_Vobs = NGC5371[:,1]\n",
    "NGC5371_gas = NGC5371[:,3]\n",
    "NGC5371_disk = NGC5371[:,4]\n",
    "NGC5371_bulge = NGC5371[:,5]\n",
    "NGC5371_VlumSquared = Neros.VlumSquared(NGC5371_gas, NGC5371_disk, NGC5371_bulge)\n",
    "NGC5371_Vlum = np.sqrt(NGC5371_VlumSquared)\n",
    "\n",
    "MW_rad = MWXueSofue[:,0]\n",
    "MW_Vlum = MWXueSofue[:,1]\n",
    "# Interpolation function\n",
    "MW_Vlum_interp_func = interp1d(MW_rad, MW_Vlum, kind='cubic')"
   ]
  },
  {
   "cell_type": "code",
   "execution_count": 5,
   "metadata": {},
   "outputs": [
    {
     "data": {
      "text/plain": [
       "array([240.9       , 232.56      , 235.54      , 243.76      ,\n",
       "       245.32      , 253.        , 281.80424766, 301.0640108 ,\n",
       "       297.9484353 , 297.91609356, 290.69624731, 273.32879724,\n",
       "       255.76223588, 241.1307498 , 229.42754848, 215.73120892,\n",
       "       205.04713848, 196.15502874, 188.6676745 ])"
      ]
     },
     "execution_count": 5,
     "metadata": {},
     "output_type": "execute_result"
    }
   ],
   "source": [
    "NGC5371_Vlum"
   ]
  },
  {
   "cell_type": "markdown",
   "metadata": {},
   "source": [
    "## Testing Phi"
   ]
  },
  {
   "cell_type": "code",
   "execution_count": 9,
   "metadata": {},
   "outputs": [
    {
     "name": "stdout",
     "output_type": "stream",
     "text": [
      "[X VALUES TO INTEGRATE]\n",
      "20\n",
      "[ 0.    1.45  2.88  4.33  5.78  7.22  8.66 11.55 14.48 17.28 20.2  23.12\n",
      " 26.04 28.84 31.76 34.68 37.48 40.4  43.32 46.24]\n",
      "[Y VALUES TO INTEGRATE]\n",
      "20\n",
      "[0.00000000e+00 4.44695862e-07 2.08658000e-07 1.42363591e-07\n",
      " 1.14223256e-07 9.26160394e-08 8.21259944e-08 7.63959923e-08\n",
      " 6.95515183e-08 5.70815780e-08 4.88195813e-08 4.06114515e-08\n",
      " 3.18777229e-08 2.52020039e-08 2.03414632e-08 1.68643470e-08\n",
      " 1.37969745e-08 1.15633468e-08 9.86888153e-09 8.55331877e-09]\n",
      "[PHI VBALUES]\n",
      "19\n",
      "[3.22404500e-07 7.89552511e-07 1.04404317e-06 1.23006863e-06\n",
      " 1.37899292e-06 1.50480719e-06 1.73387146e-06 1.94768456e-06\n",
      " 2.12497089e-06 2.27958659e-06 2.41015590e-06 2.51599009e-06\n",
      " 2.59590171e-06 2.66239517e-06 2.71671565e-06 2.75964150e-06\n",
      " 2.79666757e-06 2.82795862e-06 2.85485504e-06]\n"
     ]
    },
    {
     "data": {
      "image/png": "[encoded data removed]",
      "text/plain": [
       "<Figure size 432x288 with 1 Axes>"
      ]
     },
     "metadata": {
      "needs_background": "light"
     },
     "output_type": "display_data"
    }
   ],
   "source": [
    "NGC5371_phi, NGC5371_phi_x, NGC5371_phi_y = Neros.Phi(NGC5371_rad, np.square(NGC5371_Vlum) )\n",
    "plt.plot(NGC5371_phi_x, NGC5371_phi_y, 'ro', NGC5371_phi_x[1:], NGC5371_phi, 'b-')\n",
    "plt.show()"
   ]
  },
  {
   "cell_type": "code",
   "execution_count": 8,
   "metadata": {},
   "outputs": [
    {
     "name": "stdout",
     "output_type": "stream",
     "text": [
      "[CALCULATING PHI FOR MW]\n",
      "[X VALUES TO INTEGRATE]\n",
      "20\n",
      "[ 0.    1.45  2.88  4.33  5.78  7.22  8.66 11.55 14.48 17.28 20.2  23.12\n",
      " 26.04 28.84 31.76 34.68 37.48 40.4  43.32 46.24]\n",
      "[Y VALUES TO INTEGRATE]\n",
      "20\n",
      "[0.00000000e+00 2.96045838e-07 1.18109619e-07 7.12638241e-08\n",
      " 5.09294978e-08 3.82216725e-08 2.99540074e-08 1.97816656e-08\n",
      " 1.37876589e-08 1.01837348e-08 7.67966997e-09 5.94353868e-09\n",
      " 4.72982466e-09 3.87762035e-09 3.20300757e-09 2.70483779e-09\n",
      " 2.31757681e-09 1.99935527e-09 1.73830046e-09 1.52869473e-09]\n",
      "[PHI VBALUES]\n",
      "19\n",
      "[2.14633232e-07 5.10754384e-07 6.48050131e-07 7.36640289e-07\n",
      " 8.00829132e-07 8.49915621e-07 9.21783669e-07 9.70962730e-07\n",
      " 1.00452268e-06 1.03060325e-06 1.05049314e-06 1.06607625e-06\n",
      " 1.07812667e-06 1.08846439e-06 1.09708984e-06 1.10412122e-06\n",
      " 1.11042394e-06 1.11588092e-06 1.12065073e-06]\n",
      "[2.14633232e-07 5.10754384e-07 6.48050131e-07 7.36640289e-07\n",
      " 8.00829132e-07 8.49915621e-07 9.21783669e-07 9.70962730e-07\n",
      " 1.00452268e-06 1.03060325e-06 1.05049314e-06 1.06607625e-06\n",
      " 1.07812667e-06 1.08846439e-06 1.09708984e-06 1.10412122e-06\n",
      " 1.11042394e-06 1.11588092e-06 1.12065073e-06]\n",
      "[CALCULATING PHI FOR OTHER]\n",
      "[X VALUES TO INTEGRATE]\n",
      "20\n",
      "[ 0.    1.45  2.88  4.33  5.78  7.22  8.66 11.55 14.48 17.28 20.2  23.12\n",
      " 26.04 28.84 31.76 34.68 37.48 40.4  43.32 46.24]\n",
      "[Y VALUES TO INTEGRATE]\n",
      "20\n",
      "[0.         0.02580695 0.01128509 0.0078982  0.00678702 0.00557381\n",
      " 0.0052568  0.00606688 0.00630412 0.00506732 0.00433293 0.00343184\n",
      " 0.00238154 0.00164857 0.00118273 0.00088769 0.00064211 0.00048617\n",
      " 0.00037972 0.00030446]\n",
      "[PHI VBALUES]\n",
      "19\n",
      "[0.01871004 0.04523085 0.05913874 0.06978553 0.07868533 0.08648337\n",
      " 0.10284609 0.12096961 0.13688962 0.15061399 0.16195056 0.1704381\n",
      " 0.17608026 0.18021397 0.18323679 0.1853785  0.1870258  0.18829001\n",
      " 0.18928891]\n",
      "[0.01871004 0.04523085 0.05913874 0.06978553 0.07868533 0.08648337\n",
      " 0.10284609 0.12096961 0.13688962 0.15061399 0.16195056 0.1704381\n",
      " 0.17608026 0.18021397 0.18323679 0.1853785  0.1870258  0.18829001\n",
      " 0.18928891]\n",
      "Vlcm: \n",
      "[ 1.61714159e+13  1.32902699e+14  2.61968611e+14  3.83229427e+14\n",
      "  5.49402705e+14  6.76564917e+14  8.50253080e+14  1.23378759e+15\n",
      "  2.14367671e+15  3.31939892e+15  5.58059212e+15  1.33610906e+16\n",
      "  1.49254989e+17 -2.68227411e+16 -1.50485329e+16 -1.05459060e+16\n",
      " -8.73412955e+15 -7.72824541e+15 -7.09034592e+15]\n"
     ]
    }
   ],
   "source": [
    "Vlcm = Neros.Vlcm(NGC5371_rad, MW_Vlum_interp_func(NGC5371_rad), NGC5371_Vlum )\n",
    "print(\"Vlcm: \")\n",
    "print(Vlcm)"
   ]
  },
  {
   "cell_type": "code",
   "execution_count": 7,
   "metadata": {},
   "outputs": [
    {
     "data": {
      "text/plain": [
       "array([ 1.45,  2.88,  4.33,  5.78,  7.22,  8.66, 11.55, 14.48, 17.28,\n",
       "       20.2 , 23.12, 26.04, 28.84, 31.76, 34.68, 37.48, 40.4 , 43.32,\n",
       "       46.24])"
      ]
     },
     "execution_count": 7,
     "metadata": {},
     "output_type": "execute_result"
    }
   ],
   "source": [
    "NGC5371_rad"
   ]
  },
  {
   "cell_type": "code",
   "execution_count": 8,
   "metadata": {},
   "outputs": [
    {
     "data": {
      "image/png": "[encoded data removed]",
      "text/plain": [
       "<Figure size 432x288 with 1 Axes>"
      ]
     },
     "metadata": {
      "needs_background": "light"
     },
     "output_type": "display_data"
    }
   ],
   "source": [
    "plt.plot(NGC5371_rad, Vlcm)\n",
    "plt.show()"
   ]
  },
  {
   "cell_type": "code",
   "execution_count": 7,
   "metadata": {},
   "outputs": [
    {
     "data": {
      "text/plain": [
       "array([ 4, 16])"
      ]
     },
     "execution_count": 7,
     "metadata": {},
     "output_type": "execute_result"
    }
   ],
   "source": [
    "np.square([2, 4])"
   ]
  },
  {
   "cell_type": "code",
   "execution_count": null,
   "metadata": {},
   "outputs": [],
   "source": []
  }
 ],
 "metadata": {
  "kernelspec": {
   "display_name": "Python 3",
   "language": "python",
   "name": "python3"
  },
  "language_info": {
   "codemirror_mode": {
    "name": "ipython",
    "version": 3
   },
   "file_extension": ".py",
   "mimetype": "text/x-python",
   "name": "python",
   "nbconvert_exporter": "python",
   "pygments_lexer": "ipython3",
   "version": "3.6.8"
  }
 },
 "nbformat": 4,
 "nbformat_minor": 2
}
