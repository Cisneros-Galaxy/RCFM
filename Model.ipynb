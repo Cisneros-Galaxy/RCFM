{
 "cells": [
  {
   "cell_type": "code",
   "execution_count": 1,
   "metadata": {},
   "outputs": [],
   "source": [
    "import numpy as np\n",
    "import matplotlib.pyplot as plt\n",
    "from scipy.interpolate import interp1d\n",
    "from math import sqrt\n",
    "\n",
    "import DataAid\n",
    "import Neros"
   ]
  },
  {
   "cell_type": "code",
   "execution_count": 2,
   "metadata": {},
   "outputs": [],
   "source": [
    "# Collect the data from each of the folders\n",
    "sparcGalaxies = DataAid.GetGalaxyData(\"data/Sparc/Rotmod_LTG/\")\n",
    "xueSofueGalaxies = DataAid.GetGalaxyData(\"data/XueSofue/\")"
   ]
  },
  {
   "cell_type": "code",
   "execution_count": 3,
   "metadata": {},
   "outputs": [],
   "source": [
    "# Get the galaxies we want from each source\n",
    "NGC5371 = np.array(sparcGalaxies['NGC5371_rotmod'])\n",
    "MWXueSofue = np.array(xueSofueGalaxies['MW_lum'])"
   ]
  },
  {
   "cell_type": "code",
   "execution_count": 4,
   "metadata": {},
   "outputs": [],
   "source": [
    "NGC5371_rad = NGC5371[:,0]\n",
    "NGC5371_Vobs = NGC5371[:,1]\n",
    "NGC5371_gas = NGC5371[:,3]\n",
    "NGC5371_disk = NGC5371[:,4]\n",
    "NGC5371_bulge = NGC5371[:,5]\n",
    "NGC5371_VlumSquared = Neros.VlumSquared(NGC5371_gas, NGC5371_disk, NGC5371_bulge)\n",
    "NGC5371_Vlum = np.sqrt(NGC5371_VlumSquared)\n",
    "\n",
    "MW_rad = MWXueSofue[:,0]\n",
    "MW_Vlum = MWXueSofue[:,1]\n",
    "# Interpolation function\n",
    "MW_Vlum_interp_func = interp1d(MW_rad, MW_Vlum, kind='cubic')"
   ]
  },
  {
   "cell_type": "code",
   "execution_count": 5,
   "metadata": {},
   "outputs": [
    {
     "name": "stdout",
     "output_type": "stream",
     "text": [
      "Vlcm: \n",
      "[   2.92036417   21.56904928   46.66408505   75.20792304  109.20623884\n",
      "  143.62762747  223.75059785  344.55957711  509.67729663  692.61803946\n",
      "  905.13742597 1158.53661405 1412.564305   1662.75277186 1897.05555782\n",
      " 2147.92779984 2380.89674326 2597.93035107 2800.7878094 ]\n"
     ]
    }
   ],
   "source": [
    "Vlcm = Neros.Vlcm(NGC5371_rad, MW_Vlum_interp_func(NGC5371_rad), NGC5371_Vlum )\n",
    "print(\"Vlcm: \")\n",
    "print(Vlcm)"
   ]
  },
  {
   "cell_type": "code",
   "execution_count": 10,
   "metadata": {},
   "outputs": [
    {
     "name": "stdout",
     "output_type": "stream",
     "text": [
      "[KAPPA]\n",
      "[1.50211827 1.54585557 1.61105309 1.66983621 1.72195649 1.77053715\n",
      " 1.88099607 2.00593133 2.1154036  2.2118954  2.29430904 2.36004704\n",
      " 2.40778916 2.44601036 2.47629278 2.49940084 2.51855842 2.53428352\n",
      " 2.54749759]\n",
      "[V1]\n",
      "[5.77315973e-15 3.88578059e-14 7.83817455e-14 1.21680443e-13\n",
      " 1.67199588e-13 2.14495088e-13 3.29736238e-13 4.76951811e-13\n",
      " 6.27720098e-13 7.80042697e-13 9.24371690e-13 1.05115916e-12\n",
      " 1.15196741e-12 1.23856481e-12 1.31161748e-12 1.37045930e-12\n",
      " 1.42175161e-12 1.46549439e-12 1.50368606e-12]\n",
      "[V2]\n",
      "[2490.99394175 2580.90718826 2548.62307485 2462.93274454 2447.51516335\n",
      " 2373.38413844 2130.97934637 1994.87271649 2016.04521096 2016.52562338\n",
      " 2066.9099012  2198.65686856 2350.11230254 2493.15827695 2620.75462733\n",
      " 2787.65616177 2933.39309416 3066.83516424 3188.98855276]\n",
      "[VLCM]\n",
      "[   2.92036417   21.56904928   46.66408505   75.20792304  109.20623884\n",
      "  143.62762747  223.75059785  344.55957711  509.67729663  692.61803946\n",
      "  905.13742597 1158.53661405 1412.564305   1662.75277186 1897.05555782\n",
      " 2147.92779984 2380.89674326 2597.93035107 2800.7878094 ]\n"
     ]
    }
   ],
   "source": [
    "# Testing Kappa\n",
    "c = 3 * (10**5) # km/s\n",
    "MW_phi = Neros.Phi(NGC5371_rad, MW_Vlum_interp_func(NGC5371_rad))\n",
    "Other_phi = Neros.Phi(NGC5371_rad, NGC5371_Vlum)\n",
    "beta = Neros.beta(NGC5371_Vlum)\n",
    "kappa = Neros.kappa(MW_phi, Other_phi)\n",
    "eTsiFlat = Neros.eTsiFlat(beta)\n",
    "eTsiCurve = Neros.eTsiCurve(MW_phi, Other_phi)\n",
    "v1 = Neros.v1(eTsiCurve)\n",
    "v2 = Neros.v2(eTsiFlat, eTsiCurve)\n",
    "Vlcm = c*c*kappa*kappa*v1*v2\n",
    "print(\"[KAPPA]\")\n",
    "print(kappa)\n",
    "print(\"[V1]\")\n",
    "print(v1)\n",
    "print(\"[V2]\")\n",
    "print(v2)\n",
    "print(\"[VLCM]\")\n",
    "print(Vlcm)"
   ]
  },
  {
   "cell_type": "code",
   "execution_count": null,
   "metadata": {},
   "outputs": [],
   "source": [
    "# Testing eTsi\n"
   ]
  }
 ],
 "metadata": {
  "kernelspec": {
   "display_name": "Python 3",
   "language": "python",
   "name": "python3"
  },
  "language_info": {
   "codemirror_mode": {
    "name": "ipython",
    "version": 3
   },
   "file_extension": ".py",
   "mimetype": "text/x-python",
   "name": "python",
   "nbconvert_exporter": "python",
   "pygments_lexer": "ipython3",
   "version": "3.6.8"
  }
 },
 "nbformat": 4,
 "nbformat_minor": 2
}
