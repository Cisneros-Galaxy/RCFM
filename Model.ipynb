{
 "cells": [
  {
   "cell_type": "code",
   "execution_count": 1,
   "metadata": {},
   "outputs": [],
   "source": [
    "import numpy as np\n",
    "import matplotlib.pyplot as plt\n",
    "from scipy.interpolate import interp1d\n",
    "from math import sqrt\n",
    "\n",
    "import DataAid\n",
    "import Neros"
   ]
  },
  {
   "cell_type": "code",
   "execution_count": 2,
   "metadata": {},
   "outputs": [],
   "source": [
    "# Collect the data from each of the folders\n",
    "sparcGalaxies = DataAid.GetGalaxyData(\"data/Sparc/Rotmod_LTG/\")\n",
    "xueSofueGalaxies = DataAid.GetGalaxyData(\"data/XueSofue/\")"
   ]
  },
  {
   "cell_type": "code",
   "execution_count": 3,
   "metadata": {},
   "outputs": [],
   "source": [
    "# Get the galaxies we want from each source\n",
    "NGC5371 = np.array(sparcGalaxies['NGC5371_rotmod'])\n",
    "MWXueSofue = np.array(xueSofueGalaxies['MW_lum'])"
   ]
  },
  {
   "cell_type": "code",
   "execution_count": 4,
   "metadata": {},
   "outputs": [],
   "source": [
    "NGC5371_rad = NGC5371[:,0]\n",
    "NGC5371_Vobs = NGC5371[:,1]\n",
    "NGC5371_gas = NGC5371[:,3]\n",
    "NGC5371_disk = NGC5371[:,4]\n",
    "NGC5371_bulge = NGC5371[:,5]\n",
    "NGC5371_VlumSquared = Neros.VlumSquared(NGC5371_gas, NGC5371_disk, NGC5371_bulge)\n",
    "NGC5371_Vlum = np.sqrt(NGC5371_VlumSquared)\n",
    "\n",
    "MW_rad = MWXueSofue[:,0]\n",
    "MW_Vlum = MWXueSofue[:,1]\n",
    "# Interpolation function\n",
    "MW_Vlum_interp_func = interp1d(MW_rad, MW_Vlum, kind='cubic')"
   ]
  },
  {
   "cell_type": "code",
   "execution_count": 5,
   "metadata": {},
   "outputs": [
    {
     "data": {
      "text/plain": [
       "array([240.9       , 232.56      , 235.54      , 243.76      ,\n",
       "       245.32      , 253.        , 281.80424766, 301.0640108 ,\n",
       "       297.9484353 , 297.91609356, 290.69624731, 273.32879724,\n",
       "       255.76223588, 241.1307498 , 229.42754848, 215.73120892,\n",
       "       205.04713848, 196.15502874, 188.6676745 ])"
      ]
     },
     "execution_count": 5,
     "metadata": {},
     "output_type": "execute_result"
    }
   ],
   "source": [
    "NGC5371_Vlum"
   ]
  },
  {
   "cell_type": "code",
   "execution_count": 6,
   "metadata": {},
   "outputs": [
    {
     "name": "stdout",
     "output_type": "stream",
     "text": [
      "[CALCULATING PHI FOR MW]\n",
      "---Integrating----\n",
      "0.0  ->  1.45\n",
      "With constant v^2:  38633.981839538865\n",
      "Value:  1.7890470064247746e-05\n",
      "---Integrating----\n",
      "1.45  ->  2.88\n",
      "With constant v^2:  30614.013348577384\n",
      "Value:  2.3342393898410104e-07\n",
      "---Integrating----\n",
      "2.88  ->  4.33\n",
      "With constant v^2:  27771.512252692602\n",
      "Value:  1.258287870610555e-07\n",
      "---Integrating----\n",
      "4.33  ->  5.78\n",
      "With constant v^2:  26493.52475738531\n",
      "Value:  8.50254160407255e-08\n",
      "---Integrating----\n",
      "5.78  ->  7.22\n",
      "With constant v^2:  24836.44280524592\n",
      "Value:  6.138775833093865e-08\n",
      "---Integrating----\n",
      "7.22  ->  8.66\n",
      "With constant v^2:  23346.153382938326\n",
      "Value:  4.717473418769474e-08\n",
      "---Integrating----\n",
      "8.66  ->  11.55\n",
      "With constant v^2:  20563.04143908668\n",
      "Value:  6.579504148128987e-08\n",
      "---Integrating----\n",
      "11.55  ->  14.48\n",
      "With constant v^2:  17968.077128509794\n",
      "Value:  4.513639869841298e-08\n",
      "---Integrating----\n",
      "14.48  ->  17.28\n",
      "With constant v^2:  15837.744309395035\n",
      "Value:  3.1109091537517497e-08\n",
      "---Integrating----\n",
      "17.28  ->  20.2\n",
      "With constant v^2:  13961.640012133288\n",
      "Value:  2.4220783561665972e-08\n",
      "---Integrating----\n",
      "20.2  ->  23.12\n",
      "With constant v^2:  12367.31527559199\n",
      "Value:  1.8553094512172243e-08\n",
      "---Integrating----\n",
      "23.12  ->  26.04\n",
      "With constant v^2:  11084.817068839879\n",
      "Value:  1.4648681028773915e-08\n",
      "---Integrating----\n",
      "26.04  ->  28.84\n",
      "With constant v^2:  10064.751375791895\n",
      "Value:  1.1421199734210285e-08\n",
      "---Integrating----\n",
      "28.84  ->  31.76\n",
      "With constant v^2:  9155.476840395822\n",
      "Value:  9.811041938038136e-09\n",
      "---Integrating----\n",
      "31.76  ->  34.68\n",
      "With constant v^2:  8442.339712387138\n",
      "Value:  8.250559352346198e-09\n",
      "---Integrating----\n",
      "34.68  ->  37.48\n",
      "With constant v^2:  7817.650082934556\n",
      "Value:  6.744400122246596e-09\n",
      "---Integrating----\n",
      "37.48  ->  40.4\n",
      "With constant v^2:  7269.655762483446\n",
      "Value:  6.059849956995571e-09\n",
      "---Integrating----\n",
      "40.4  ->  43.32\n",
      "With constant v^2:  6777.285825120147\n",
      "Value:  5.255004803046144e-09\n",
      "---Integrating----\n",
      "43.32  ->  46.24\n",
      "With constant v^2:  6361.8159777310475\n",
      "Value:  4.610959554172259e-09\n",
      "[1.78904701e-05 1.81238940e-05 1.82497228e-05 1.83347482e-05\n",
      " 1.83961360e-05 1.84433107e-05 1.85091057e-05 1.85542421e-05\n",
      " 1.85853512e-05 1.86095720e-05 1.86281251e-05 1.86427738e-05\n",
      " 1.86541950e-05 1.86640060e-05 1.86722566e-05 1.86790010e-05\n",
      " 1.86850608e-05 1.86903158e-05 1.86949268e-05]\n",
      "[CALCULATING PHI FOR OTHER]\n",
      "---Integrating----\n",
      "0.0  ->  1.45\n",
      "With constant v^2:  58032.810000000005\n",
      "Value:  2.6873601959056303e-05\n",
      "---Integrating----\n",
      "1.45  ->  2.88\n",
      "With constant v^2:  54084.1536\n",
      "Value:  4.1237769207805624e-07\n",
      "---Integrating----\n",
      "2.88  ->  4.33\n",
      "With constant v^2:  55479.0916\n",
      "Value:  2.513679031864877e-07\n",
      "---Integrating----\n",
      "4.33  ->  5.78\n",
      "With constant v^2:  59418.9376\n",
      "Value:  1.906926291009875e-07\n",
      "---Integrating----\n",
      "5.78  ->  7.22\n",
      "With constant v^2:  60181.9024\n",
      "Value:  1.4875045147958966e-07\n",
      "---Integrating----\n",
      "7.22  ->  8.66\n",
      "With constant v^2:  64009.0\n",
      "Value:  1.2934068885313336e-07\n",
      "---Integrating----\n",
      "8.66  ->  11.55\n",
      "With constant v^2:  79413.634\n",
      "Value:  2.5409778795067415e-07\n",
      "---Integrating----\n",
      "11.55  ->  14.48\n",
      "With constant v^2:  90639.53859999999\n",
      "Value:  2.276894919155491e-07\n",
      "---Integrating----\n",
      "14.48  ->  17.28\n",
      "With constant v^2:  88773.27010000001\n",
      "Value:  1.743717875270556e-07\n",
      "---Integrating----\n",
      "17.28  ->  20.2\n",
      "With constant v^2:  88753.99880000002\n",
      "Value:  1.539712665058678e-07\n",
      "---Integrating----\n",
      "20.2  ->  23.12\n",
      "With constant v^2:  84504.30820000001\n",
      "Value:  1.267709589173779e-07\n",
      "---Integrating----\n",
      "23.12  ->  26.04\n",
      "With constant v^2:  74708.6314\n",
      "Value:  9.872809850432465e-08\n",
      "---Integrating----\n",
      "26.04  ->  28.84\n",
      "With constant v^2:  65414.32129999998\n",
      "Value:  7.423035116814532e-08\n",
      "---Integrating----\n",
      "28.84  ->  31.76\n",
      "With constant v^2:  58144.03850000001\n",
      "Value:  6.230736095070953e-08\n",
      "---Integrating----\n",
      "31.76  ->  34.68\n",
      "With constant v^2:  52636.99999999999\n",
      "Value:  5.14412719014655e-08\n",
      "---Integrating----\n",
      "34.68  ->  37.48\n",
      "With constant v^2:  46539.95449999999\n",
      "Value:  4.015069381326498e-08\n",
      "---Integrating----\n",
      "37.48  ->  40.4\n",
      "With constant v^2:  42044.329000000005\n",
      "Value:  3.50473713758792e-08\n",
      "---Integrating----\n",
      "40.4  ->  43.32\n",
      "With constant v^2:  38476.7953\n",
      "Value:  2.983432443676504e-08\n",
      "---Integrating----\n",
      "43.32  ->  46.24\n",
      "With constant v^2:  35595.4914\n",
      "Value:  2.5799138442672073e-08\n",
      "[2.68736020e-05 2.72859797e-05 2.75373476e-05 2.77280402e-05\n",
      " 2.78767906e-05 2.80061313e-05 2.82602291e-05 2.84879186e-05\n",
      " 2.86622904e-05 2.88162617e-05 2.89430326e-05 2.90417607e-05\n",
      " 2.91159911e-05 2.91782984e-05 2.92297397e-05 2.92698904e-05\n",
      " 2.93049378e-05 2.93347721e-05 2.93605712e-05]\n",
      "Vlcm: \n",
      "[13740.78409527 14849.40236365 15100.18558407 14954.51893422\n",
      " 15168.01976736 14990.75156739 14056.85659713 13724.73624789\n",
      " 14338.05625502 14773.01566147 15520.96585257 16834.45422468\n",
      " 18259.90813526 19610.40669224 20823.16501869 22329.00189794\n",
      " 23661.24158351 24885.63137221 26010.65622877]\n"
     ]
    },
    {
     "name": "stderr",
     "output_type": "stream",
     "text": [
      "/Users/Zac/anaconda3/lib/python3.6/site-packages/scipy/integrate/quadpack.py:385: IntegrationWarning: The maximum number of subdivisions (50) has been achieved.\n",
      "  If increasing the limit yields no improvement it is advised to analyze \n",
      "  the integrand in order to determine the difficulties.  If the position of a \n",
      "  local difficulty can be determined (singularity, discontinuity) one will \n",
      "  probably gain from splitting up the interval and calling the integrator \n",
      "  on the subranges.  Perhaps a special-purpose integrator should be used.\n",
      "  warnings.warn(msg, IntegrationWarning)\n"
     ]
    }
   ],
   "source": [
    "Vlcm = Neros.Vlcm(NGC5371_rad, MW_Vlum_interp_func(NGC5371_rad), NGC5371_Vlum)\n",
    "print(\"Vlcm: \")\n",
    "print(Vlcm)"
   ]
  },
  {
   "cell_type": "code",
   "execution_count": 7,
   "metadata": {},
   "outputs": [
    {
     "data": {
      "text/plain": [
       "array([ 1.45,  2.88,  4.33,  5.78,  7.22,  8.66, 11.55, 14.48, 17.28,\n",
       "       20.2 , 23.12, 26.04, 28.84, 31.76, 34.68, 37.48, 40.4 , 43.32,\n",
       "       46.24])"
      ]
     },
     "execution_count": 7,
     "metadata": {},
     "output_type": "execute_result"
    }
   ],
   "source": [
    "NGC5371_rad"
   ]
  },
  {
   "cell_type": "code",
   "execution_count": 8,
   "metadata": {},
   "outputs": [
    {
     "data": {
      "image/png": "[encoded data removed]",
      "text/plain": [
       "<Figure size 432x288 with 1 Axes>"
      ]
     },
     "metadata": {
      "needs_background": "light"
     },
     "output_type": "display_data"
    }
   ],
   "source": [
    "plt.plot(NGC5371_rad, Vlcm)\n",
    "plt.show()"
   ]
  },
  {
   "cell_type": "code",
   "execution_count": null,
   "metadata": {},
   "outputs": [],
   "source": []
  }
 ],
 "metadata": {
  "kernelspec": {
   "display_name": "Python 3",
   "language": "python",
   "name": "python3"
  },
  "language_info": {
   "codemirror_mode": {
    "name": "ipython",
    "version": 3
   },
   "file_extension": ".py",
   "mimetype": "text/x-python",
   "name": "python",
   "nbconvert_exporter": "python",
   "pygments_lexer": "ipython3",
   "version": "3.6.8"
  }
 },
 "nbformat": 4,
 "nbformat_minor": 2
}
