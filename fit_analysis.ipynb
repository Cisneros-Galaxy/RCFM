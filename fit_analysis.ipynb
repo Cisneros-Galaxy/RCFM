{
 "cells": [
  {
   "cell_type": "markdown",
   "metadata": {},
   "source": [
    "# RCFM Model"
   ]
  },
  {
   "cell_type": "markdown",
   "metadata": {},
   "source": [
    "## 1. Import modules and helper functions"
   ]
  },
  {
   "cell_type": "code",
   "execution_count": null,
   "metadata": {},
   "outputs": [],
   "source": [
    "# Modules\n",
    "import matplotlib.pyplot as plt\n",
    "import numpy as np\n",
    "import pandas as pd\n",
    "from math import sqrt\n",
    "from scipy.optimize import curve_fit\n",
    "from scipy.stats import norm, probplot\n",
    "\n",
    "# Helper functions from DataAid.py and DataImport.py\n",
    "import DataAid\n",
    "import DataImporter\n",
    "\n",
    "# New v1v2 functions\n",
    "import Neros"
   ]
  },
  {
   "cell_type": "markdown",
   "metadata": {},
   "source": [
    "## 2. Load Galaxy Data"
   ]
  },
  {
   "cell_type": "code",
   "execution_count": null,
   "metadata": {},
   "outputs": [],
   "source": [
    "# Load Galaxy Data\n",
    "sparcGalaxies = DataAid.GetGalaxyData(\"data/Sparc/Rotmod_LTG/\")\n",
    "sparc128Galaxies = DataAid.GetGalaxyData(\"data/Sparc/SparcSubset135/\")\n",
    "sparcTset = DataAid.GetGalaxyData(\"data/Sparc/TrainingSet/\")\n",
    "littleDataGalaxies = DataAid.GetGalaxyData(\"data/little-data-things/data/\")\n",
    "lcmGalaxies = DataAid.GetGalaxyData(\"data/LCMFits/data/\")\n",
    "\n",
    "# Load Milky Way Model Data\n",
    "xueSofueGalaxies = DataAid.GetGalaxyData(\"data/XueSofue/\")\n",
    "mcGaughMW = DataAid.GetGalaxyData(\"data/McGaugh/\")\n",
    "\n",
    "# Create array of Milky Way radius and vlum tuples from model data\n",
    "MWXueSofue = np.array(xueSofueGalaxies['MW_lum'])\n",
    "MWMcGaugh = np.array(mcGaughMW['MW_lumMcGaugh'])\n"
   ]
  },
  {
   "cell_type": "markdown",
   "metadata": {},
   "source": [
    "## 3. Create Neros class instance"
   ]
  },
  {
   "cell_type": "code",
   "execution_count": null,
   "metadata": {},
   "outputs": [],
   "source": [
    "# Create Neros instance to perform calculations with the supplied Milky Way model as comparison\n",
    "# Change Milky Way model by changing the variable in the parentheses\n",
    "# i.e. neros_fns = Neros.Neros(MWModelVariable)\n",
    "\n",
    "#neros_fns = Neros.Neros(MWXueSofue)\n",
    "neros_fns = Neros.Neros(MWMcGaugh)\n",
    "#MW_name = \"MWXueSofue\" # Change this if you change the MW model in neros_fns!\n",
    "MW_name = \"MWMcGaugh\" # Change this if you change the MW model in neros_fns!\n",
    "MW_rad = neros_fns.mw_rad\n",
    "MW_vLum = neros_fns.mw_vLum\n",
    "MW_vLum_interp_func = neros_fns.mw_vLum_interp\n",
    "\n",
    "# Designate v1 and v2 functions used in model. \n",
    "# For filenaming and bookkeeping\n",
    "v1='sinh' \n",
    "v2='cosh'"
   ]
  },
  {
   "cell_type": "markdown",
   "metadata": {},
   "source": [
    "## 4. Designate galaxy sample"
   ]
  },
  {
   "cell_type": "code",
   "execution_count": null,
   "metadata": {},
   "outputs": [],
   "source": [
    "# This designates which galaxy sample to fit\n",
    "galaxies = sparc128Galaxies\n",
    "\n",
    "density_subset1_gals = (\"UGCA444_rotmod-Copy1\",\"D564-8_rotmod-Copy1\",\"UGC04483_rotmod-Copy1\",\"UGC07577_rotmod-Copy1\",\n",
    "                        \"CamB_rotmod-Copy1\",\"DDO154_rotmod-Copy1\",\"UGCA442_rotmod-Copy1\",\"NGC3741_rotmod-Copy1\",\n",
    "                        \"ESO444-G084_rotmod-Copy1\",\"UGC07559_rotmod-Copy1\",\"NGC3109_rotmod-Copy1\",\"UGC07866_rotmod-Copy1\",\n",
    "                        \"DDO168_rotmod-Copy1\",\"D631-7_rotmod-Copy1\",\"UGC01281_rotmod-Copy1\",\"NGC6789_rotmod-Copy1\",\n",
    "                        \"NGC4068_rotmod-Copy1\",\"UGC08837_rotmod-Copy1\",\"UGC07232_rotmod-Copy1\",\"IC2574_rotmod-Copy1\") \n",
    "#UGC01281_rotmod not in sparc128Galaxies\n",
    "\n",
    "density_subset2_gals = (\"UGC08286_rotmod-Copy1\",\"UGC07524_rotmod-Copy1\",\"UGC08490_rotmod-Copy1\",\"UGC07151_rotmod-Copy1\",\n",
    "                        \"NGC2915_rotmod-Copy1\",\"NGC0247_rotmod-Copy1\",\"NGC0055_rotmod-Copy1\",\"NGC4214_rotmod-Copy1\",\n",
    "                        \"NGC0300_rotmod-Copy1\",\"NGC0024_rotmod-Copy1\",\"NGC7793_rotmod-Copy1\",\"NGC2403_rotmod-Copy1\",\n",
    "                        \"NGC3198_rotmod-Copy1\",\"NGC6503_rotmod-Copy1\")\n",
    "\n",
    "density_subset3_gals = (\"NGC6946_rotmod-Copy1\",\"NGC5907_rotmod-Copy1\",\"NGC2683_rotmod-Copy1\",\"NGC2841_rotmod-Copy1\",\n",
    "                        \"NGC7814_rotmod-Copy1\",\"NGC5055_rotmod-Copy1\",\"NGC0891_rotmod-Copy1\",\"NGC7331_rotmod-Copy1\")\n",
    "dictfilt = lambda x, y: dict([ (i,x[i]) for i in x if i in set(y) ])\n",
    "density_subset1 = dictfilt(galaxies, density_subset1_gals)\n",
    "density_subset2 = dictfilt(galaxies, density_subset2_gals)\n",
    "density_subset3 = dictfilt(galaxies, density_subset3_gals)"
   ]
  },
  {
   "cell_type": "code",
   "execution_count": null,
   "metadata": {},
   "outputs": [],
   "source": [
    "# print(sorted(list(sparcGalaxies.keys())))\n",
    "\n",
    "def check_subsets(subset_gals, subset_dict):\n",
    "    for i in range(0,len(subset_gals)):\n",
    "        if subset_gals[i] not in subset_dict.keys():\n",
    "            print(subset_gals[i])\n",
    "print(\"Subset 1 missing galaxies:\")\n",
    "check_subsets(density_subset1_gals, density_subset1)\n",
    "print('------')\n",
    "print(\"Subset 2 missing galaxies:\")\n",
    "check_subsets(density_subset2_gals, density_subset2)\n",
    "print('------')\n",
    "print(\"Subset 3 missing galaxies:\")\n",
    "check_subsets(density_subset3_gals, density_subset3)\n",
    "print('------')"
   ]
  },
  {
   "cell_type": "markdown",
   "metadata": {},
   "source": [
    "## 5. Fit galaxies, print and save graphs"
   ]
  },
  {
   "cell_type": "code",
   "execution_count": null,
   "metadata": {},
   "outputs": [],
   "source": [
    "def processGalaxy(galaxyData, plot=False):\n",
    "    galaxy = np.array(galaxyData)\n",
    "    galaxy_rad = galaxy[:,0]\n",
    "    galaxy_vObs = galaxy[:,1]\n",
    "    galaxy_error = galaxy[:,2]\n",
    "    galaxy_gas = galaxy[:,3]\n",
    "    galaxy_disk = galaxy[:,4]\n",
    "    galaxy_bulge = galaxy[:,5]\n",
    "    \n",
    "    # Just fit then extract the relevant pieces\n",
    "    neros_fns.fit(galaxy_rad, galaxy_gas, galaxy_disk, galaxy_bulge, galaxy_vObs, galaxy_error)\n",
    "    fit_results = neros_fns.get_fit_results(galaxy_rad)\n",
    "    \n",
    "#     f, ax = plt.subplots(2,2, figsize=(12,12))\n",
    "    \n",
    "    trimmed_rad = neros_fns.get_rad()\n",
    "    trimmed_vLum_updated = neros_fns.get_vLum_scaled()\n",
    "    trimmed_vObs = neros_fns.get_vObs()\n",
    "    trimmed_error = neros_fns.get_vObsError()\n",
    "    vNeros = neros_fns.get_vNeros()\n",
    "    # gbar = v_lum^2/R (luminous, composed of v_gas, v_disk, and v_bulge)\n",
    "    # gobs = v_obs^2/R (observed)\n",
    "    # gNeros = vNeros^2/R (model)\n",
    "    log_gbar = np.log10(trimmed_vLum_updated**2/trimmed_rad)\n",
    "    log_gobs = np.log10(trimmed_vObs**2/trimmed_rad)\n",
    "    log_gneros = np.log10(vNeros**2/trimmed_rad)\n",
    "    \n",
    "    ordered_for_plot = sorted(zip(log_gbar, log_gneros))\n",
    "    \n",
    "    if plot:\n",
    "        # Make plots of fits and difference of fit from data for each galaxy \n",
    "        # (false by default because it's a lot of graphs)\n",
    "        \n",
    "        # y-axis scales to the maximum velocity value in the list galaxy_vObs_err_incl\n",
    "        # or to the maximum value in the list vNeros, whichever is the bigger number\n",
    "        y_max = max(max(trimmed_vObs + trimmed_error), max(vNeros))\n",
    "        ax[0,0].set_ylim(bottom = 0, top = y_max + 15)\n",
    "\n",
    "        # plot vObs and vNeros and updated vLum\n",
    "        ax[0,0].plot(trimmed_rad, trimmed_vObs, label=\"{}_vObs\".format(galaxyName))\n",
    "        ax[0,0].plot(trimmed_rad, vNeros, label=\"{}_vNeros\".format(galaxyName))\n",
    "        ax[0,0].plot(trimmed_rad, trimmed_vLum_updated, label=\"{}_new_vLum\".format(galaxyName))\n",
    "        ax[0,0].plot([],[], ' ', label=\"$\\chi^2$ = {}\".format(fit_results['chi_squared']))\n",
    "\n",
    "        # error bar in vObs\n",
    "        for i in range(len(trimmed_rad)):\n",
    "            ax[0,0].vlines(trimmed_rad[i], trimmed_vObs[i] - trimmed_error[i], trimmed_vObs[i] + trimmed_error[i])\n",
    "\n",
    "        ax[0,0].legend()\n",
    "        ax[0,0].set_xlabel('Galaxy Radius (kpc)')\n",
    "        ax[0,0].set_ylabel('Velocities (km/s)')\n",
    "\n",
    "        ax[0,1].plot(trimmed_rad, trimmed_vObs - vNeros, 'ko')\n",
    "        ax[0,1].set_xlabel('Galaxy Radius (kpc)')\n",
    "        ax[0,1].set_ylabel('vObs - vNeros (km/s)')\n",
    "\n",
    "        ax[1,1].plot(trimmed_vObs, vNeros, 'ko')\n",
    "        ax[1,1].set_xlabel('vObs (km/s)')\n",
    "        ax[1,1].set_ylabel('vNeros (km/s)')\n",
    "\n",
    "\n",
    "\n",
    "        ax[1,0].scatter(log_gbar, log_gobs, label='data')\n",
    "        ax[1,0].plot([x[0] for x in ordered_for_plot], [x[1] for x in ordered_for_plot], 'k-',label='Neros')\n",
    "        ax[1,0].set_xlabel('gbar log10(km/s)')\n",
    "        ax[1,0].set_ylabel('gobs log10(km/s)')\n",
    "        ax[1,0].legend()\n",
    "        plt.title()\n",
    "        plt.close()\n",
    "        plt.show()\n",
    "\n",
    "    return (trimmed_vObs, vNeros, trimmed_rad, trimmed_vLum_updated, trimmed_error)\n",
    "\n",
    "# processGalaxy(galaxy)"
   ]
  },
  {
   "cell_type": "markdown",
   "metadata": {},
   "source": [
    "## Run fit analysis on density subsets (disable to run on full sparc128 set)"
   ]
  },
  {
   "cell_type": "code",
   "execution_count": null,
   "metadata": {},
   "outputs": [],
   "source": [
    "subset = \"sparc128\"\n",
    "#galaxies = density_subset1\n",
    "#galaxies = density_subset2\n",
    "# galaxies = density_subset3"
   ]
  },
  {
   "cell_type": "code",
   "execution_count": null,
   "metadata": {},
   "outputs": [],
   "source": [
    "all_obs = [] # vObs (observed rotation curve)\n",
    "all_neros = [] # vNeros (model fit)\n",
    "all_rad = [] # radii\n",
    "all_vlum = [] # vlum (composed of disk, bulge, gas)\n",
    "norm_obs = [] # (vObs-mean_vObs/std_vObs)\n",
    "norm_neros = [] # (vNeros-mean_Neros/std_Neros)\n",
    "all_verr = [] # error on velocity observations\n",
    "new_norms = [] # (vobs-vneros)/verr\n",
    "gal = []\n",
    "resgalnames = []\n",
    "stds = []\n",
    "\n",
    "i = 0\n",
    "for galaxyName in list(galaxies.keys()):\n",
    "    try:\n",
    "        galaxyData = galaxies[galaxyName]\n",
    "        obs, neros, rad, vlum, verr = processGalaxy(galaxyData)\n",
    "        all_obs.extend(obs)\n",
    "        all_neros.extend(neros)\n",
    "        all_rad.extend(rad)\n",
    "        all_vlum.extend(vlum)\n",
    "        all_verr.extend(verr)\n",
    "        mean = np.mean(obs)\n",
    "        std = np.std(obs)\n",
    "        stds.append(np.std(obs-neros))\n",
    "        new_norms.extend((obs-neros)/verr)\n",
    "        norm_obs.extend((obs - mean)/std)\n",
    "        norm_neros.extend((neros - mean)/std)\n",
    "        gal.extend([i]*len(obs))\n",
    "        for j in range(0, len(obs)):\n",
    "            resgalnames.append(galaxyName)\n",
    "        i += 1\n",
    "    except Exception as e:\n",
    "        print(e)\n",
    "        print(f'ERROR! Fit for {galaxyName} failed')\n",
    "        #delgal = galaxies.pop(galaxyName) #remove from galaxy list\n",
    "        i += 1\n",
    "#         with open(f'fit-analysis-plots/{MW_name}/failed_fits_{v1}_{v2}.txt', 'a+') as f:\n",
    "#             f.write(galaxyName)\n",
    "#             f.write('\\n')\n",
    "# f, ax = plt.subplots(1,2, figsize=(12,6))\n",
    "# ax[0].scatter(all_obs, all_neros, c=gal, cmap='rainbow')\n",
    "# ax[0].set_xlabel('vObs (km/s)')\n",
    "# ax[0].set_ylabel('vNeros (km/s)')\n",
    "# ax[1].scatter(norm_obs, norm_neros, c=gal, cmap='rainbow')\n",
    "# ax[1].set_xlabel('vObs (std = 1)')\n",
    "# ax[1].set_ylabel('vNeros (std = 1)')\n",
    "# plt.show()    "
   ]
  },
  {
   "cell_type": "code",
   "execution_count": null,
   "metadata": {},
   "outputs": [],
   "source": [
    "#all_neros #uncomment to show vNeros values - nans for McGaugh fits?"
   ]
  },
  {
   "cell_type": "code",
   "execution_count": null,
   "metadata": {},
   "outputs": [],
   "source": [
    "# count=0\n",
    "# outlier_gal_names = []\n",
    "# for name in resdf[0].unique():\n",
    "#     resdfByGal = resdf[resdf[0] == name]\n",
    "#     if any(abs(resdfByGal[2]) > 1):\n",
    "#         count += 1\n",
    "#         outlier_gal_names.append(name)\n",
    "#         plt.plot(resdfByGal[1], resdfByGal[2])\n",
    "#         plt.title(name)\n",
    "#         plt.xlabel('Radius (kpc)')\n",
    "#         plt.ylabel('Normalized residual (km/s)')\n",
    "#         plt.show()\n",
    "# print(len(resgalnames), count, outlier_gal_names)"
   ]
  },
  {
   "cell_type": "markdown",
   "metadata": {},
   "source": [
    "## 6. Difference plots, log of observed and luminous acceleration (McGaugh plot), and residuals"
   ]
  },
  {
   "cell_type": "code",
   "execution_count": null,
   "metadata": {},
   "outputs": [],
   "source": [
    "#Uncomment the two commented lines to get the Neros on there\n",
    "#It doesn't really work, since it's per-galaxy rather than overall\n",
    "\n",
    "vlum = np.array(all_vlum)\n",
    "vObs = np.array(all_obs)\n",
    "rad = np.array(all_rad)\n",
    "vNeros = np.array(all_neros)\n",
    "norm_vObs = np.array(norm_obs)\n",
    "norm_vNeros = np.array(norm_neros)\n",
    "residuals = vObs-vNeros\n",
    "\n",
    "log_gbar = np.log10(vlum**2/rad)\n",
    "log_gobs = np.log10(vObs**2/rad)\n",
    "log_gneros = np.log10(vNeros**2/rad)\n",
    "\n",
    "#ordered_for_plot = sorted(zip(log_gbar, log_gneros))\n",
    "\n",
    "plt.scatter(log_gbar, log_gobs, label='data')\n",
    "#plt.plot([x[0] for x in ordered_for_plot], [x[1] for x in ordered_for_plot], 'k-',label='Neros')\n",
    "plt.xlabel('gbar log10(km/s)')\n",
    "plt.ylabel('gobs log10(km/s)')\n",
    "plt.legend()"
   ]
  },
  {
   "cell_type": "code",
   "execution_count": null,
   "metadata": {},
   "outputs": [],
   "source": [
    "outlier_inds = [i for i,v in enumerate(residuals) if abs(v) > 100]\n",
    "outlier_gals = []\n",
    "for ind in outlier_inds:\n",
    "    outlier_gals.append(list(galaxies.keys())[gal[ind]])\n",
    "    \n",
    "print(set(outlier_gals))\n",
    "with open(f'fit-analysis-plots/{MW_name}/outliers_{v1}_{v2}_{subset}.txt', 'w+') as f:\n",
    "    f.write('Galaxies with residuals greater than 200 (vNeros-vObs)\\n')\n",
    "    f.write(str(set(outlier_gals)))"
   ]
  },
  {
   "cell_type": "code",
   "execution_count": null,
   "metadata": {},
   "outputs": [],
   "source": [
    "# print(list(galaxies.keys())[gal[np.argmax(residuals)]])"
   ]
  },
  {
   "cell_type": "code",
   "execution_count": null,
   "metadata": {},
   "outputs": [],
   "source": [
    "# Plots of vObs v. vNeros - a somewhat standard fitting plot\n",
    "# The right plot is normalized in kind of a lazy way\n",
    "\n",
    "f, ax = plt.subplots(1,1, figsize=(6,6))\n",
    "ax.scatter(all_obs, all_neros, c=gal, cmap='rainbow', label='colored by galaxy')\n",
    "ax.set_xlabel('vObs (km/s)')\n",
    "ax.set_ylabel('vNeros (km/s)')\n",
    "ax.plot(all_obs, all_obs, 'k--', label='ideal fit')\n",
    "ax.legend()\n",
    "# f, ax = plt.subplots(1,2, figsize=(12,6))\n",
    "# ax[0].scatter(all_obs, all_neros, c=gal, cmap='rainbow', label='colored by galaxy')\n",
    "# ax[0].set_xlabel('vObs (km/s)')\n",
    "# ax[0].set_ylabel('vNeros (km/s)')\n",
    "# ax[0].plot(all_obs, all_obs, 'k--', label='ideal fit')\n",
    "# ax[0].legend()\n",
    "# ax[1].scatter(norm_obs, norm_neros, c=gal, cmap='rainbow', label='colored by galaxy')\n",
    "# ax[1].set_xlabel('vObs (std = 1)')\n",
    "# ax[1].set_ylabel('vNeros (std = 1)')\n",
    "# ax[1].plot(norm_obs, norm_obs, 'k--', label='ideal fit')\n",
    "# ax[1].legend()\n",
    "plt.savefig(f'fit-analysis-plots/{MW_name}/vObsvNeros_v1_{v1}_v2_{v2}_{subset}.png')"
   ]
  },
  {
   "cell_type": "code",
   "execution_count": null,
   "metadata": {},
   "outputs": [],
   "source": [
    "f, ax = plt.subplots(1,2, figsize=(12,6))\n",
    "ax0plot = ax[0].hist2d(vObs, vNeros, range=[[0,400],[0,450]],bins=40, cmap='Blues', vmin=0, vmax=50)\n",
    "plt.colorbar(ax0plot[3], ax=ax[0])\n",
    "ax[0].set_xlabel('vObs (km/s)')\n",
    "ax[0].set_ylabel('vNeros (km/s)')\n",
    "ax[0].plot(all_obs, all_obs, 'k--', label='ideal fit')\n",
    "ax[0].legend()\n",
    "ax1plot = ax[1].hist2d(norm_vObs, norm_vNeros,range=[[-6,2.5],[-15,7]], bins=40, cmap='Blues',vmin=0, vmax=50)\n",
    "plt.colorbar(ax1plot[3], ax=ax[1])\n",
    "ax[1].set_xlabel('vObs (std = 1)')\n",
    "ax[1].set_ylabel('vNeros (std = 1)')\n",
    "ax[1].plot(norm_obs, norm_obs, 'k--', label='ideal fit')\n",
    "ax[1].legend()\n",
    "# ax[0].set_aspect(1)\n",
    "# ax[1].set_aspect(0.45)\n",
    "\n",
    "plt.savefig(f'fit-analysis-plots/{MW_name}/FitComparePlot_hist_v1_{v1}_v2_{v2}_{subset}.png')"
   ]
  },
  {
   "cell_type": "code",
   "execution_count": null,
   "metadata": {},
   "outputs": [],
   "source": [
    "# Indirect assessment of model fits \n",
    "# comparing observed centripetal acceleration to luminous centripetal acceleration\n",
    "# the luminous velocity is scaled by bulge, gas, and disk parameters from model fit.\n",
    "\n",
    "plt.hist2d(log_gbar, log_gobs, bins=40, cmap='Blues')\n",
    "plt.colorbar()\n",
    "plt.xlabel(\"gbar log10(km/s)\")\n",
    "plt.ylabel(\"gobs log10(km/s)\")\n",
    "plt.title(\"2D histogram, McGaugh plot\")\n",
    "plt.savefig(f'fit-analysis-plots/{MW_name}/2dhistMcGaughPlot_v1_{v1}_v2_{v2}_{subset}.png')"
   ]
  },
  {
   "cell_type": "code",
   "execution_count": null,
   "metadata": {},
   "outputs": [],
   "source": [
    "#attempt at McGaugh plot, not so good\n",
    "plt.scatter(np.log(all_obs), np.log10(np.abs([x-y for x,y in zip(all_obs, all_neros)])), c=gal, cmap='rainbow', alpha=0.1)\n",
    "plt.colorbar()"
   ]
  },
  {
   "cell_type": "code",
   "execution_count": null,
   "metadata": {},
   "outputs": [],
   "source": [
    "plt.scatter(np.log(all_obs), np.log(all_neros), c=gal, cmap='rainbow')\n",
    "plt.xlabel('vObs log(km/s)')\n",
    "plt.ylabel('vNeros log(km/s)')"
   ]
  },
  {
   "cell_type": "code",
   "execution_count": null,
   "metadata": {},
   "outputs": [],
   "source": [
    "f, ax = plt.subplots(1,2, figsize=(12,6))\n",
    "ax[0].hist([x - y for x,y in zip(all_obs, all_neros)],bins=50, range=(-50,50))\n",
    "ax[0].set_xlabel('residual (km/s)')\n",
    "ax[1].hist([x-y for x,y in zip(norm_obs, norm_neros)],bins=50, range=(-3,3))\n",
    "ax[1].set_xlabel('residual (std = 1)')\n",
    "plt.suptitle('Residuals, with outliers trimmed')\n",
    "plt.savefig(f'fit-analysis-plots/{MW_name}/ResidualHist_v1_{v1}_v2_{v2}_{subset}.png')"
   ]
  },
  {
   "cell_type": "markdown",
   "metadata": {},
   "source": [
    "## 7. Fitting normalized residuals to a Gaussian distribution"
   ]
  },
  {
   "cell_type": "code",
   "execution_count": null,
   "metadata": {},
   "outputs": [],
   "source": [
    "# residuals = [x - y for x,y in zip(norm_obs, norm_neros)]\n",
    "residuals = new_norms\n",
    "hist, bins, bars = plt.hist(residuals, bins=50, range=(-3,3))\n",
    "bin_mid = [(bins[i] + bins[i-1])/2 for i in range(1,len(bins))]\n",
    "\n",
    "def gauss(x, A, mu, sigma):\n",
    "    return A*np.exp(-(x-mu)**2/(2.*sigma**2))\n",
    "\n",
    "init = [500, 0, 10]\n",
    "\n",
    "fits, cov = curve_fit(gauss, bin_mid, hist, p0=init)\n",
    "fitted_mean = fits[1]\n",
    "fitted_std = fits[2]\n",
    "FWHM = 2*np.sqrt(2*np.log(2))*fitted_std\n",
    "plt.text(0-max(bins),max(hist)-max(hist)/5, 'FWHM = %.3f\\nmean=%.3f\\nstdev=%.3f'%(FWHM,fitted_mean,fitted_std))\n",
    "plt.hist(residuals, bins=50, range=(-3,3), color=\"black\", label='Binned residuals')\n",
    "plt.plot(bin_mid, gauss(bin_mid, *fits), 'r-')\n",
    "plt.xlabel('Normalized residual (km/s)')\n",
    "plt.ylabel('Counts') #raw count divided by the total number of counts and the bin width\n",
    "plt.title(f'Residuals assuming {MW_name[2:]} Milky Way model')\n",
    "plt.legend(['Gaussian fit','Binned residuals'])\n",
    "plt.savefig(f'fit-analysis-plots/{MW_name}/ResidualHist_GaussFit_v1_{v1}_v2_{v2}_{subset}_newnorm.png')"
   ]
  },
  {
   "cell_type": "markdown",
   "metadata": {},
   "source": [
    "## 8. Testing other fitting regimes"
   ]
  },
  {
   "cell_type": "code",
   "execution_count": null,
   "metadata": {},
   "outputs": [],
   "source": [
    "# Normal probability plot - should be linear if residuals are normally distributed\n",
    "# results suggest heavy tails - too much data at extremes\n",
    "fig = plt.figure()\n",
    "ax = fig.add_subplot(111)\n",
    "probplot(residuals, plot=ax)\n",
    "plt.savefig(f'fit-analysis-plots/{MW_name}/Residual_normprobplot_v1_{v1}_v2_{v2}_{subset}_newnorm.png')"
   ]
  },
  {
   "cell_type": "code",
   "execution_count": null,
   "metadata": {},
   "outputs": [],
   "source": [
    "def expfit(x, A, b):\n",
    "    return A*np.exp(-b*np.abs(x))\n",
    "\n",
    "init2 = [1,1]\n",
    "\n",
    "fits, cov = curve_fit(expfit, bin_mid, hist, p0=init2)\n",
    "fit_A = fits[0]\n",
    "fit_b = fits[1]\n",
    "print(f'A={fit_A}, b={fit_b}')\n",
    "\n",
    "plt.hist(residuals, bins=50, range=(-3,3), color=\"black\", label='Binned residuals')\n",
    "plt.plot(bin_mid, expfit(bin_mid, *fits), 'r-')\n",
    "plt.xlabel('Normalized residuals (km/s)')\n",
    "plt.ylabel('Counts') #raw count divided by the total number of counts and the bin width\n",
    "plt.legend(['Exponential fit','Binned residuals'])\n",
    "plt.title(f'Residuals assuming {MW_name[2:]} Milky Way model')\n",
    "plt.savefig(f'fit-analysis-plots/{MW_name}/ResidualHist_ExpFit_v1_{v1}_v2_{v2}_{subset}_newnorm.png')"
   ]
  },
  {
   "cell_type": "code",
   "execution_count": null,
   "metadata": {},
   "outputs": [],
   "source": []
  }
 ],
 "metadata": {
  "kernelspec": {
   "display_name": "Python 3",
   "language": "python",
   "name": "python3"
  },
  "language_info": {
   "codemirror_mode": {
    "name": "ipython",
    "version": 3
   },
   "file_extension": ".py",
   "mimetype": "text/x-python",
   "name": "python",
   "nbconvert_exporter": "python",
   "pygments_lexer": "ipython3",
   "version": "3.7.4"
  }
 },
 "nbformat": 4,
 "nbformat_minor": 4
}
