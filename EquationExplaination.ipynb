{
 "cells": [
  {
   "cell_type": "code",
   "execution_count": 1,
   "metadata": {},
   "outputs": [],
   "source": [
    "import numpy as np\n",
    "import matplotlib.pyplot as plt\n",
    "from scipy.interpolate import interp1d\n",
    "from math import sqrt\n",
    "\n",
    "import DataAid\n",
    "import Neros"
   ]
  },
  {
   "cell_type": "code",
   "execution_count": 2,
   "metadata": {},
   "outputs": [],
   "source": [
    "# Collect the data from each of the folders\n",
    "sparcGalaxies = DataAid.GetGalaxyData(\"data/Sparc/Rotmod_LTG/\")\n",
    "xueSofueGalaxies = DataAid.GetGalaxyData(\"data/XueSofue/\")"
   ]
  },
  {
   "cell_type": "code",
   "execution_count": 3,
   "metadata": {},
   "outputs": [],
   "source": [
    "# Get the galaxies we want from each source\n",
    "NGC5371 = np.array(sparcGalaxies['NGC5371_rotmod'])\n",
    "MWXueSofue = np.array(xueSofueGalaxies['MW_lum'])"
   ]
  },
  {
   "cell_type": "markdown",
   "metadata": {},
   "source": [
    "## Parsing out the columns from the data"
   ]
  },
  {
   "cell_type": "code",
   "execution_count": 6,
   "metadata": {},
   "outputs": [
    {
     "ename": "AttributeError",
     "evalue": "module 'Neros' has no attribute 'vLumSquared'",
     "output_type": "error",
     "traceback": [
      "\u001b[0;31m---------------------------------------------------------------------------\u001b[0m",
      "\u001b[0;31mAttributeError\u001b[0m                            Traceback (most recent call last)",
      "Cell \u001b[0;32mIn[6], line 6\u001b[0m\n\u001b[1;32m      4\u001b[0m NGC5371_disk \u001b[38;5;241m=\u001b[39m NGC5371[:,\u001b[38;5;241m4\u001b[39m]\n\u001b[1;32m      5\u001b[0m NGC5371_bulge \u001b[38;5;241m=\u001b[39m NGC5371[:,\u001b[38;5;241m5\u001b[39m]\n\u001b[0;32m----> 6\u001b[0m NGC5371_VlumSquared \u001b[38;5;241m=\u001b[39m \u001b[43mNeros\u001b[49m\u001b[38;5;241;43m.\u001b[39;49m\u001b[43mvLumSquared\u001b[49m(NGC5371_gas, NGC5371_disk, NGC5371_bulge)\n\u001b[1;32m      8\u001b[0m MW_rad \u001b[38;5;241m=\u001b[39m MWXueSofue[:,\u001b[38;5;241m0\u001b[39m]\n\u001b[1;32m      9\u001b[0m MW_Vobs \u001b[38;5;241m=\u001b[39m MWXueSofue[:,\u001b[38;5;241m1\u001b[39m]\n",
      "\u001b[0;31mAttributeError\u001b[0m: module 'Neros' has no attribute 'vLumSquared'"
     ]
    }
   ],
   "source": [
    "NGC5371_rad = NGC5371[:,0]\n",
    "NGC5371_Vobs = NGC5371[:,1]\n",
    "NGC5371_gas = NGC5371[:,3]\n",
    "NGC5371_disk = NGC5371[:,4]\n",
    "NGC5371_bulge = NGC5371[:,5]\n",
    "NGC5371_VlumSquared = Neros.vLumSquared(NGC5371_gas, NGC5371_disk, NGC5371_bulge)\n",
    "\n",
    "MW_rad = MWXueSofue[:,0]\n",
    "MW_Vobs = MWXueSofue[:,1]\n",
    "# Interpolation function\n",
    "MW_Vobs_interp = interp1d(MW_rad, MW_Vobs, kind='cubic')"
   ]
  },
  {
   "cell_type": "markdown",
   "metadata": {},
   "source": [
    "## Plotting our galaxy data ##\n",
    "Now that we have the data for the Milky Way and NGC5371, we can plot them side by side. In this example we will plot their LUM mass and Radius."
   ]
  },
  {
   "cell_type": "code",
   "execution_count": 7,
   "metadata": {},
   "outputs": [
    {
     "ename": "NameError",
     "evalue": "name 'NGC5371_lum' is not defined",
     "output_type": "error",
     "traceback": [
      "\u001b[0;31m---------------------------------------------------------------------------\u001b[0m",
      "\u001b[0;31mNameError\u001b[0m                                 Traceback (most recent call last)",
      "Cell \u001b[0;32mIn[7], line 2\u001b[0m\n\u001b[1;32m      1\u001b[0m \u001b[38;5;66;03m# Plot both galaxies side by side\u001b[39;00m\n\u001b[0;32m----> 2\u001b[0m plt\u001b[38;5;241m.\u001b[39mplot(NGC5371_rad, \u001b[43mNGC5371_lum\u001b[49m, MW_rad, MW_Vobs)\n\u001b[1;32m      3\u001b[0m plt\u001b[38;5;241m.\u001b[39mlegend([\u001b[38;5;124m'\u001b[39m\u001b[38;5;124mNGC5371\u001b[39m\u001b[38;5;124m'\u001b[39m, \u001b[38;5;124m'\u001b[39m\u001b[38;5;124mMilky Way\u001b[39m\u001b[38;5;124m'\u001b[39m, \u001b[38;5;124m'\u001b[39m\u001b[38;5;124mcubic\u001b[39m\u001b[38;5;124m'\u001b[39m], loc\u001b[38;5;241m=\u001b[39m\u001b[38;5;124m'\u001b[39m\u001b[38;5;124mbest\u001b[39m\u001b[38;5;124m'\u001b[39m)\n\u001b[1;32m      4\u001b[0m plt\u001b[38;5;241m.\u001b[39mxlabel(\u001b[38;5;124m'\u001b[39m\u001b[38;5;124mRadius (KPC)\u001b[39m\u001b[38;5;124m'\u001b[39m)\n",
      "\u001b[0;31mNameError\u001b[0m: name 'NGC5371_lum' is not defined"
     ]
    }
   ],
   "source": [
    "# Plot both galaxies side by side\n",
    "plt.plot(NGC5371_rad, NGC5371_lum, MW_rad, MW_Vobs)\n",
    "plt.legend(['NGC5371', 'Milky Way', 'cubic'], loc='best')\n",
    "plt.xlabel('Radius (KPC)')\n",
    "plt.ylabel('LUM mass')\n",
    "plt.title('SPARC Milky Way')\n",
    "plt.show()"
   ]
  },
  {
   "cell_type": "markdown",
   "metadata": {},
   "source": [
    "## Plotting Interpolation Function ##\n",
    "It's nice to have the data, but we need to access values for LUM mass for the Milky Way at radii that aren't exactly given in the data. We use an interpolator (interp1d) that will make a very good guess as to what that value will be. Here is an example that creates an interpolator for the Milky Way, then plots a point at a given radius for NGC5371 that doesn't specifically exist in the data."
   ]
  },
  {
   "cell_type": "code",
   "execution_count": null,
   "metadata": {},
   "outputs": [],
   "source": [
    "NG_rad = NGC5371_rad[5]\n",
    "NG_y = NGC5371_lum[5]\n",
    "\n",
    "plt.plot(NG_rad, NG_y, 'o', NG_rad, MW_interp(NG_rad), 'o')\n",
    "plt.show()"
   ]
  },
  {
   "cell_type": "markdown",
   "metadata": {},
   "source": [
    "# Plotting Vlum Squared #\n",
    "Now that we can get values for galaxies at ANY given radius, we need to calculate vSquared. This is the final step towards calculating phi. We will calculate vSquared at every radius for NGC5371, and then calculate vSqured with the same radii (those that are in the NGC5371's data set but NOT MW's) on the Milky Way data. "
   ]
  },
  {
   "cell_type": "code",
   "execution_count": null,
   "metadata": {},
   "outputs": [],
   "source": [
    "# Plot our function of r -> vSquared\n",
    "plt.plot(NGC5371_rad, NGC_vSquared*NGC5371_Vlum)\n",
    "plt.show()"
   ]
  },
  {
   "cell_type": "code",
   "execution_count": null,
   "metadata": {},
   "outputs": [],
   "source": [
    "# Calculate vSquared for MW with other galaxies radii\n",
    "MW_v = [mw_function(r) for r in NGC5371_rad]\n",
    "MW_vSquared = [r ** 2 for r in MW_v]\n",
    "# Plot our function of r -> vSquared\n",
    "plt.plot(NGC5371_rad, MW_vSquared)\n",
    "plt.show()"
   ]
  },
  {
   "cell_type": "markdown",
   "metadata": {},
   "source": [
    "## Phi Calculation Example##\n",
    "The phi function takes an array of radii and the vSquared for a galaxy, and then calculates phi at every radius (returning an array the same size as the radius array)"
   ]
  },
  {
   "cell_type": "code",
   "execution_count": null,
   "metadata": {},
   "outputs": [],
   "source": [
    "# Calculate Phi for each galaxy\n",
    "NGC_phi = phi.CalcWithRadiiAndVSquared(NGC5371_rad, NGC_vSquared)\n",
    "NGC_phi = [x for x in NGC_phi]\n",
    "print(NGC_phi)"
   ]
  },
  {
   "cell_type": "markdown",
   "metadata": {},
   "source": [
    "## Here is Phi for the Milky Way and all other galaxies##\n",
    "Now that we can get vSquared for each galaxy at any given radius, we run the vSquared and radii arrays for EVERY GALAXY through phi.CalcWithRadiiAndVSquared to get phi for every galaxy!"
   ]
  },
  {
   "cell_type": "code",
   "execution_count": null,
   "metadata": {},
   "outputs": [],
   "source": [
    "# Create a dictionary to store the phis for later use\n",
    "galaxyPhis = {}\n",
    "\n",
    "# Initialize the plot\n",
    "f, ax = plt.subplots(1, figsize=(15,15))\n",
    "\n",
    "for galaxyName in sparcGalaxies:\n",
    "    galaxy = np.array(sparcGalaxies[galaxyName])\n",
    "    radii = galaxy[:,0]\n",
    "    gas = galaxy[:,3]\n",
    "    disk = galaxy[:,4]\n",
    "    bulge = galaxy[:,5]\n",
    "    vSquared = gas*gas + disk*disk + bulge*bulge\n",
    "    # Calculate phi\n",
    "    galaxyPhi = phi.CalcWithRadiiAndVSquared(radii, vSquared)\n",
    "    # Store phi\n",
    "    galaxyPhhis[galaxyName] = galaxyPhi\n",
    "    \n",
    "    ax.plot(radii[1:], galaxyPhi, label=galaxyName)\n",
    "\n",
    "ax.legend(loc=\"upper right\")"
   ]
  },
  {
   "cell_type": "code",
   "execution_count": null,
   "metadata": {},
   "outputs": [],
   "source": []
  }
 ],
 "metadata": {
  "kernelspec": {
   "display_name": "Python 3 (ipykernel)",
   "language": "python",
   "name": "python3"
  },
  "language_info": {
   "codemirror_mode": {
    "name": "ipython",
    "version": 3
   },
   "file_extension": ".py",
   "mimetype": "text/x-python",
   "name": "python",
   "nbconvert_exporter": "python",
   "pygments_lexer": "ipython3",
   "version": "3.8.17"
  }
 },
 "nbformat": 4,
 "nbformat_minor": 4
}
