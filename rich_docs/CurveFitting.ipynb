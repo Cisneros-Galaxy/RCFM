{
 "cells": [
  {
   "cell_type": "code",
   "execution_count": 66,
   "metadata": {},
   "outputs": [],
   "source": [
    "import numpy as np\n",
    "import scipy as sp\n",
    "import matplotlib.pyplot as plt"
   ]
  },
  {
   "cell_type": "markdown",
   "metadata": {},
   "source": [
    "## Curve fitting\n",
    "\n",
    "This is a first pass at figuring out how to do our (somewhat complicated) curve fitting.  We'll be combining multiple data sets, which might require some tweaking of the curve_fit usage.\n",
    "\n",
    "We'll start by making up some data.  For our real data, our fitting function is going to be something like\n",
    "\n",
    "$$v_{rot}^2 = v_{lum}^2 + \\alpha v_{LCM}^2$$\n",
    "\n",
    "where our $v_{LCM}^2$ is a function of the $v_{lum}^2$.  In the real data, the $\\alpha$ will be different for each of our galaxies, but we'll be able to get it from a single $\\beta$ parameter. We'll also want the LCM calculation to depend on a parameter ($\\phi_0$ in the real data), though we won't use that ability for this first pass.  I'll set $\\alpha$ to be a function of the galaxy information.\n",
    "\n",
    "We'll build up to it.  Let's start really simple, with just an x and a y\n",
    "\n",
    "$$y = C - (x - \\alpha)^2$$"
   ]
  },
  {
   "cell_type": "code",
   "execution_count": 145,
   "metadata": {},
   "outputs": [
    {
     "data": {
      "text/plain": [
       "[<matplotlib.lines.Line2D at 0x18229cdc88>]"
      ]
     },
     "execution_count": 145,
     "metadata": {},
     "output_type": "execute_result"
    },
    {
     "data": {
      "image/png": "[encoded data removed]",
      "text/plain": [
       "<Figure size 432x288 with 1 Axes>"
      ]
     },
     "metadata": {},
     "output_type": "display_data"
    }
   ],
   "source": [
    "#Setting the seed ensures each run gets the same \"random\" data\n",
    "np.random.seed(46)\n",
    "\n",
    "x = np.random.uniform(0,1,size=[40])\n",
    "x.sort()\n",
    "y = 1.0-(x - 0.5)*(x - 0.5) + np.random.normal(0,0.02,size=[40])\n",
    "\n",
    "plt.plot(x,y,'o')"
   ]
  },
  {
   "cell_type": "markdown",
   "metadata": {},
   "source": [
    "We need to define a fitting function, the first argument is our input data (in this case, just a single dimensional array of x values), all subsequent arguments are assumed to be fit parameters.  We'll have two, corresponding to our $\\alpha$ and $C$, in that order (which is arbitrary, of course)."
   ]
  },
  {
   "cell_type": "code",
   "execution_count": 146,
   "metadata": {},
   "outputs": [],
   "source": [
    "def simple(xx,alpha,const):\n",
    "    return const - (xx-alpha)**2"
   ]
  },
  {
   "cell_type": "code",
   "execution_count": 147,
   "metadata": {},
   "outputs": [
    {
     "name": "stdout",
     "output_type": "stream",
     "text": [
      "[0.50542472 0.99844647]\n",
      "[[3.06041994e-05 2.23965235e-06]\n",
      " [2.23965235e-06 1.11785691e-05]]\n",
      "alpha: 0.505 ± 0.0055; C: 0.9984 ± 0.0033\n"
     ]
    }
   ],
   "source": [
    "import scipy.optimize\n",
    "vals, cov = sp.optimize.curve_fit(simple,x,y)\n",
    "print(vals)\n",
    "print(cov)\n",
    "errs = np.sqrt(np.diag(cov))\n",
    "print(\"alpha: {:.3} ± {:.2}; C: {:.4} ± {:.2}\".format(vals[0], errs[0], vals[1], errs[1]))"
   ]
  },
  {
   "cell_type": "markdown",
   "metadata": {},
   "source": [
    "Well, that seemed to work, since our input values were $\\alpha = 0.5$ and $C = 1.0$.  The output is the fit parameter values, then the covariance matrix.  Strictly speaking we should do more work to get this to be error bars, but I was lazy and just used the square roots of the diagonal entries.\n",
    "\n",
    "Ok, time to step it up.  Our real problem involves an integral, which seems like it's going to make things more complicated.  Let's try one of those.  This means having two data sets: the one before integration and the one after.\n",
    "\n",
    "We'll keep the same data set as our last one, and now add a second\n",
    "\n",
    "$$z = y + \\beta \\int_{0}^x \\sqrt{y(\\phi) - \\eta}\\ d\\phi $$\n",
    "\n",
    "where $\\phi$ is a dummy integration variable.  Our new fit parameters are $\\beta$ and $\\eta$.\n",
    "\n",
    "Now we need to compute our measured z data.  I'm going to be lazy and do it numerically, choosing $\\beta = 1.5$ and $\\eta = 0.4$.  Note that we are _assuming_ we know the $\\alpha$ and $C$ from before, we're no longer fitting that - strictly speaking, we don't need to know, as that information is bound up in $y$ now.  We could if we wanted."
   ]
  },
  {
   "cell_type": "code",
   "execution_count": 149,
   "metadata": {},
   "outputs": [
    {
     "data": {
      "text/plain": [
       "[<matplotlib.lines.Line2D at 0x1822a1ccc0>]"
      ]
     },
     "execution_count": 149,
     "metadata": {},
     "output_type": "execute_result"
    },
    {
     "data": {
      "image/png": "[encoded data removed]",
      "text/plain": [
       "<Figure size 432x288 with 1 Axes>"
      ]
     },
     "metadata": {},
     "output_type": "display_data"
    }
   ],
   "source": [
    "import scipy.integrate\n",
    "import scipy.interpolate\n",
    "gen_x = np.linspace(0,1,1001)\n",
    "gen_y = 1 - (gen_x - 0.5)**2\n",
    "##Need to check on what cumtrapz does for the zero point\n",
    "gen_z = sp.integrate.cumtrapz(np.sqrt(gen_y - 0.4), gen_x)\n",
    "gen_z = np.append(np.array([0]), gen_z)\n",
    "gen_fz = sp.interpolate.interp1d(gen_x, gen_z)\n",
    "z = 1.5*gen_fz(x) + np.random.normal(0,0.015,size=[40]) + 1 - (x - 0.5)**2\n",
    "plt.plot(x,z,'o')\n",
    "plt.plot(gen_x,1.5*gen_z + gen_y)"
   ]
  },
  {
   "cell_type": "markdown",
   "metadata": {},
   "source": [
    "So far so good, we have some data now.  Now we need to define our fitting function - it's going to take in an x and a y array and return a z array."
   ]
  },
  {
   "cell_type": "code",
   "execution_count": 234,
   "metadata": {},
   "outputs": [],
   "source": [
    "def integrated(xy, beta, eta):\n",
    "    xx, yy = xy\n",
    "    zz = sp.integrate.cumtrapz(np.sqrt(yy - eta), xx)\n",
    "    return beta*np.append(np.array([0]), zz) + yy "
   ]
  },
  {
   "cell_type": "code",
   "execution_count": 235,
   "metadata": {},
   "outputs": [],
   "source": [
    "def integrated_fixed(xy, beta):\n",
    "    xx, yy = xy\n",
    "    zz = sp.integrate.cumtrapz(np.sqrt(yy - 0.4), xx)\n",
    "    return beta*np.append(np.array([0]), zz) + yy "
   ]
  },
  {
   "cell_type": "code",
   "execution_count": 236,
   "metadata": {},
   "outputs": [
    {
     "name": "stdout",
     "output_type": "stream",
     "text": [
      "[1.57661705]\n",
      "[[0.00021011]]\n"
     ]
    }
   ],
   "source": [
    "#I increased maxfev from the default of 600, it's the max number of iterations\n",
    "vals, cov = sp.optimize.curve_fit(integrated_fixed,(x,y),z,maxfev=10000)\n",
    "print(vals)\n",
    "print(cov)"
   ]
  },
  {
   "cell_type": "markdown",
   "metadata": {},
   "source": [
    "Well, that sort of works with a fixed value of $\\eta$.  If I try to fit $\\eta$ as well, it finds other minima (not the one I want).  We'll have to find a workaround - I suspect some sort of smoothed version of the $y$ values would help, but we'd need to test that.\n",
    "\n",
    "Ok, last stop.  We need to fit several sets at once, with potentially different ranges.  We're going to have to find a way to either cheat the `curve_fit` utility, or we can switch out to the more general `minimize` utility.\n",
    "\n",
    "Let's generate some more data sets, but let's make them slightly different - we'll have them be over (slightly) different x ranges, and adjust our $\\alpha$ for each one to be the midpoint of the range, so that we need different models for each."
   ]
  },
  {
   "cell_type": "code",
   "execution_count": 237,
   "metadata": {},
   "outputs": [],
   "source": [
    "x2 = np.random.uniform(0,1.4,size=[40])\n",
    "x2.sort()\n",
    "y2 = 1.0-(x2 - 0.7)**2 + np.random.normal(0,0.015,size=[40])\n",
    "\n",
    "gen_x = np.linspace(0,1.4,1001)\n",
    "gen_y = 1 - (gen_x - 0.7)**2\n",
    "##Need to check on what cumtrapz does for the zero point\n",
    "gen_z = sp.integrate.cumtrapz(np.sqrt(gen_y - 0.4), gen_x)\n",
    "gen_z = np.append(np.array([0]), gen_z)\n",
    "gen_fz = sp.interpolate.interp1d(gen_x, gen_z)\n",
    "z2 = 1.5*gen_fz(x2) + np.random.normal(0,0.015,size=[40]) + 1 - (x2 - 0.7)**2"
   ]
  },
  {
   "cell_type": "code",
   "execution_count": 238,
   "metadata": {},
   "outputs": [],
   "source": [
    "x3 = np.random.uniform(0,0.8,size=[40])\n",
    "x3.sort()\n",
    "y3 = 1.0-(x3 - 0.4)**2 + np.random.normal(0,0.015,size=[40])\n",
    "\n",
    "gen_x = np.linspace(0,0.8,1001)\n",
    "gen_y = 1 - (gen_x - 0.4)**2\n",
    "##Need to check on what cumtrapz does for the zero point\n",
    "gen_z = sp.integrate.cumtrapz(np.sqrt(gen_y - 0.4), gen_x)\n",
    "gen_z = np.append(np.array([0]), gen_z)\n",
    "gen_fz = sp.interpolate.interp1d(gen_x, gen_z)\n",
    "z3 = 1.5*gen_fz(x3) + np.random.normal(0,0.015,size=[40]) + 1 - (x3 - 0.4)**2"
   ]
  },
  {
   "cell_type": "code",
   "execution_count": 242,
   "metadata": {},
   "outputs": [
    {
     "name": "stdout",
     "output_type": "stream",
     "text": [
      "(array([1.51364009]), array([[4.3064486e-05]]))\n",
      "(array([1.5351067]), array([[9.67470783e-05]]))\n"
     ]
    }
   ],
   "source": [
    "#Test each individually\n",
    "print(sp.optimize.curve_fit(integrated_fixed,(x2,y2),z2,maxfev=10000))\n",
    "print(sp.optimize.curve_fit(integrated_fixed,(x3,y3),z3,maxfev=10000))"
   ]
  },
  {
   "cell_type": "markdown",
   "metadata": {},
   "source": [
    "Now we need to decide what to do.  If we want to cheat the `curve_fit` method, we'll have to add an extra bit of information to tell the data sets apart.  If we want to use `minimize`, we'll have to do least squares on our own.  Both should work, I'm going to try the latter for now."
   ]
  },
  {
   "cell_type": "code",
   "execution_count": 245,
   "metadata": {},
   "outputs": [],
   "source": [
    "# Sets will be our data sets, input format [(x1,y1,z1),(x2,y2,z2), ...]\n",
    "def all_sets(beta, datasets):\n",
    "    def set_error(x,y,z):\n",
    "        #There's a decision to make here - do we divide by the length of the set?\n",
    "        #That means sets with more data points count more\n",
    "        errs = (z - integrated_fixed((x,y),beta))**2\n",
    "        return sum(errs)\n",
    "    \n",
    "    return sum([set_error(data[0],data[1],data[2]) for data in datasets])"
   ]
  },
  {
   "cell_type": "code",
   "execution_count": 246,
   "metadata": {},
   "outputs": [
    {
     "data": {
      "text/plain": [
       "      fun: 0.10565474181737251\n",
       " hess_inv: array([[0.0201914]])\n",
       "      jac: array([1.21071935e-08])\n",
       "  message: 'Optimization terminated successfully.'\n",
       "     nfev: 15\n",
       "      nit: 4\n",
       "     njev: 5\n",
       "   status: 0\n",
       "  success: True\n",
       "        x: array([1.53242218])"
      ]
     },
     "execution_count": 246,
     "metadata": {},
     "output_type": "execute_result"
    }
   ],
   "source": [
    "sp.optimize.minimize(all_sets, [1], args=[(x,y,z),(x2,y2,z2),(x3,y3,z3)])"
   ]
  },
  {
   "cell_type": "markdown",
   "metadata": {},
   "source": [
    "Oh, hey, that actually worked.  Great!  That wasn't so terrible.  We aren't taking error bars in to account, unfortunately, but that's something we can do pretty easily by altering our `errs` term.  Let's do this rather than trying to cheat `curve_fit`, I tried and it's pretty involved."
   ]
  },
  {
   "cell_type": "code",
   "execution_count": null,
   "metadata": {},
   "outputs": [],
   "source": []
  }
 ],
 "metadata": {
  "kernelspec": {
   "display_name": "Python 3",
   "language": "python",
   "name": "python3"
  },
  "language_info": {
   "codemirror_mode": {
    "name": "ipython",
    "version": 3
   },
   "file_extension": ".py",
   "mimetype": "text/x-python",
   "name": "python",
   "nbconvert_exporter": "python",
   "pygments_lexer": "ipython3",
   "version": "3.6.2"
  }
 },
 "nbformat": 4,
 "nbformat_minor": 2
}
