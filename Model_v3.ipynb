{
 "cells": [
  {
   "cell_type": "markdown",
   "metadata": {},
   "source": [
    "# RCFM Model"
   ]
  },
  {
   "cell_type": "markdown",
   "metadata": {},
   "source": [
    "## 1. Import modules and helper functions"
   ]
  },
  {
   "cell_type": "code",
   "execution_count": 2,
   "metadata": {},
   "outputs": [
    {
     "ename": "NameError",
     "evalue": "name 'MW_phi' is not defined",
     "output_type": "error",
     "traceback": [
      "\u001b[0;31m---------------------------------------------------------------------------\u001b[0m",
      "\u001b[0;31mNameError\u001b[0m                                 Traceback (most recent call last)",
      "\u001b[0;32m<ipython-input-2-87d8c4a361d6>\u001b[0m in \u001b[0;36m<module>\u001b[0;34m\u001b[0m\n\u001b[1;32m     10\u001b[0m \u001b[0;34m\u001b[0m\u001b[0m\n\u001b[1;32m     11\u001b[0m \u001b[0;31m# Numerically stable class of functions from Neros_v2.py\u001b[0m\u001b[0;34m\u001b[0m\u001b[0;34m\u001b[0m\u001b[0;34m\u001b[0m\u001b[0m\n\u001b[0;32m---> 12\u001b[0;31m \u001b[0;32mimport\u001b[0m \u001b[0mNeros_v3\u001b[0m\u001b[0;34m\u001b[0m\u001b[0;34m\u001b[0m\u001b[0m\n\u001b[0m",
      "\u001b[0;32m~/Desktop/RCFM_Gen/RCFM/Neros_v3.py\u001b[0m in \u001b[0;36m<module>\u001b[0;34m\u001b[0m\n\u001b[1;32m     16\u001b[0m \u001b[0mc\u001b[0m \u001b[0;34m=\u001b[0m \u001b[0;36m3\u001b[0m \u001b[0;34m*\u001b[0m \u001b[0;34m(\u001b[0m\u001b[0;36m10\u001b[0m\u001b[0;34m**\u001b[0m\u001b[0;36m5\u001b[0m\u001b[0;34m)\u001b[0m \u001b[0;31m# km/s\u001b[0m\u001b[0;34m\u001b[0m\u001b[0;34m\u001b[0m\u001b[0m\n\u001b[1;32m     17\u001b[0m \u001b[0;34m\u001b[0m\u001b[0m\n\u001b[0;32m---> 18\u001b[0;31m \u001b[0;32mclass\u001b[0m \u001b[0mNeros\u001b[0m\u001b[0;34m:\u001b[0m\u001b[0;34m\u001b[0m\u001b[0;34m\u001b[0m\u001b[0m\n\u001b[0m\u001b[1;32m     19\u001b[0m     \"\"\"The Neros Model\n\u001b[1;32m     20\u001b[0m \u001b[0;34m\u001b[0m\u001b[0m\n",
      "\u001b[0;32m~/Desktop/RCFM_Gen/RCFM/Neros_v3.py\u001b[0m in \u001b[0;36mNeros\u001b[0;34m()\u001b[0m\n\u001b[1;32m     98\u001b[0m         \u001b[0;32mreturn\u001b[0m \u001b[0mscipy\u001b[0m\u001b[0;34m.\u001b[0m\u001b[0mintegrate\u001b[0m\u001b[0;34m.\u001b[0m\u001b[0mcumtrapz\u001b[0m\u001b[0;34m(\u001b[0m\u001b[0my\u001b[0m\u001b[0;34m,\u001b[0m\u001b[0mx\u001b[0m\u001b[0;34m)\u001b[0m\u001b[0;34m\u001b[0m\u001b[0;34m\u001b[0m\u001b[0m\n\u001b[1;32m     99\u001b[0m \u001b[0;34m\u001b[0m\u001b[0m\n\u001b[0;32m--> 100\u001b[0;31m     \u001b[0;32mdef\u001b[0m \u001b[0mvNeros\u001b[0m\u001b[0;34m(\u001b[0m\u001b[0mself\u001b[0m\u001b[0;34m,\u001b[0m \u001b[0mgalaxy_rad\u001b[0m\u001b[0;34m,\u001b[0m \u001b[0mgalaxy_vLum\u001b[0m\u001b[0;34m,\u001b[0m \u001b[0malpha\u001b[0m\u001b[0;34m,\u001b[0m \u001b[0mphi_zero\u001b[0m\u001b[0;34m=\u001b[0m\u001b[0mMW_phi\u001b[0m\u001b[0;34m[\u001b[0m\u001b[0;34m-\u001b[0m\u001b[0;36m1\u001b[0m\u001b[0;34m]\u001b[0m\u001b[0;34m)\u001b[0m\u001b[0;34m:\u001b[0m\u001b[0;34m\u001b[0m\u001b[0;34m\u001b[0m\u001b[0m\n\u001b[0m\u001b[1;32m    101\u001b[0m         \"\"\"This computes the predicted vObs\n\u001b[1;32m    102\u001b[0m \u001b[0;34m\u001b[0m\u001b[0m\n",
      "\u001b[0;31mNameError\u001b[0m: name 'MW_phi' is not defined"
     ]
    }
   ],
   "source": [
    "# Modules\n",
    "import matplotlib.pyplot as plt\n",
    "import numpy as np\n",
    "from math import sqrt\n",
    "from scipy.optimize import curve_fit\n",
    "\n",
    "# Helper functions from DataAid.py and DataImport.py\n",
    "import DataAid\n",
    "import DataImporter\n",
    "\n",
    "# Numerically stable class of functions from Neros_v2.py\n",
    "import Neros_v3"
   ]
  },
  {
   "cell_type": "markdown",
   "metadata": {},
   "source": [
    "## 2. Load Galaxy Data"
   ]
  },
  {
   "cell_type": "code",
   "execution_count": null,
   "metadata": {},
   "outputs": [],
   "source": [
    "# Load Galaxy Data\n",
    "sparcGalaxies = DataAid.GetGalaxyData(\"data/Sparc/Rotmod_LTG/\")\n",
    "littleDataGalaxies = DataAid.GetGalaxyData(\"data/little-data-things/data/\")\n",
    "lcmGalaxies = DataAid.GetGalaxyData(\"data/LCMFits/data/\")\n",
    "\n",
    "# Load Milky Way Model Data\n",
    "xueSofueGalaxies = DataAid.GetGalaxyData(\"data/XueSofue/\")\n",
    "mcGaughMW = DataAid.GetGalaxyData(\"data/McGaugh/\")\n",
    "\n",
    "# Create array of Milky Way radius and vlum tuples from model data\n",
    "MWXueSofue = np.array(xueSofueGalaxies['MW_lum'])\n",
    "MWMcGaugh = np.array(mcGaughMW['MW_lumMcGaugh'])\n"
   ]
  },
  {
   "cell_type": "markdown",
   "metadata": {},
   "source": [
    "## 3. Create Neros class instance"
   ]
  },
  {
   "cell_type": "code",
   "execution_count": null,
   "metadata": {},
   "outputs": [],
   "source": [
    "# Create Neros instance to perform calculations with the supplied Milky Way model as comparison\n",
    "# Change Milky Way model by changing the variable in the parentheses\n",
    "# i.e. neros_fns = Neros_v2.Neros(MWModelVariable)\n",
    "\n",
    "neros_fns = Neros_v3.Neros(MWXueSofue)\n",
    "MW_name = \"MWXueSofue\" # Change this if you change the MW model in neros_fns!\n",
    "MW_rad = neros_fns.mwRad\n",
    "MW_vLum = neros_fns.mwVLum\n",
    "\n",
    "MW_vLum_interp_func = neros_fns.mw_vLum_interp"
   ]
  },
  {
   "cell_type": "markdown",
   "metadata": {},
   "source": [
    "## 4. Designate outfile name, initialize variables, and designate galaxy sample"
   ]
  },
  {
   "cell_type": "code",
   "execution_count": null,
   "metadata": {},
   "outputs": [],
   "source": [
    "# This is where the fitted alpha & vlum free parameter will be written for each galaxy\n",
    "out_file = \"imported-data/data_\" + str(MW_name) + \".csv\"\n",
    "with open(out_file, 'w') as f:\n",
    "    f.write('{0},{1},{2},{3}\\n'.format(\"Galaxy\", \"Chisquare\",  \"Alpha\", \"Beta\"))\n",
    "f.close()\n",
    "\n",
    "vLcmList = []\n",
    "\n",
    "avgChiSquared = 0.0\n",
    "avgPhiZero = 0.0\n",
    "\n",
    "# This designates which galaxy sample to fit\n",
    "galaxies = sparcGalaxies"
   ]
  },
  {
   "cell_type": "markdown",
   "metadata": {},
   "source": [
    "## 5. Fit galaxies, print and save graphs"
   ]
  },
  {
   "cell_type": "code",
   "execution_count": null,
   "metadata": {},
   "outputs": [],
   "source": [
    "\"\"\"\n",
    "This is the main body of the model. \n",
    "It loops through galaxies in the designated sample,\n",
    "it calculates vLCM, vNeros, and chiSquared,\n",
    "it fits galaxy data using alpha and vLumFreeParam,\n",
    "it prints the values of alpha and vLumFreeParam to the console,\n",
    "and it saves the graphs to a file.\n",
    "\"\"\"\n",
    "for galaxyName in galaxies:\n",
    "    f, ax = plt.subplots(1, figsize = (15, 15))\n",
    "    galaxy = np.array(galaxies[galaxyName])\n",
    "    galaxy_rad = galaxy[:,0]\n",
    "    galaxy_vObs = galaxy[:,1]\n",
    "    galaxy_error = galaxy[:,2]\n",
    "    galaxy_gas = galaxy[:,3]\n",
    "    galaxy_disk = galaxy[:,4]\n",
    "    galaxy_bulge = galaxy[:,5]\n",
    "\n",
    "    # calculate vlumsquared\n",
    "    galaxy_vLumSquared = neros_fns.vLumSquared(galaxy_gas, galaxy_disk, galaxy_bulge)\n",
    "    galaxy_vLum = np.sqrt(galaxy_vLumSquared)\n",
    "    \n",
    "    # Make sure the arrays are matching lengths\n",
    "    maxMWRad = MW_rad[len(MW_rad)-1]\n",
    "    for i in range(len(galaxy_rad)):\n",
    "        if galaxy_rad[i] > maxMWRad:\n",
    "            galaxy_rad = galaxy_rad[:i]\n",
    "            galaxy_vLum = galaxy_vLum[:i]\n",
    "            galaxy_vObs = galaxy_vObs[:i]\n",
    "            galaxy_gas = galaxy_gas[:i]\n",
    "            galaxy_disk = galaxy_disk[:i]\n",
    "            galaxy_bulge = galaxy_bulge[:i]\n",
    "            galaxy_error = galaxy_error[:i]\n",
    "            break\n",
    "            \n",
    "    # Find fittedAlpha and fittedVLumFreeParam from curve_fit function\n",
    "    vals, cov = curve_fit(neros_fns.curve_fit_fn,(galaxy_rad, galaxy_gas, galaxy_disk, galaxy_bulge),\n",
    "                          galaxy_vObs,sigma=galaxy_error)\n",
    "    fittedAlpha, fittedVLumFreeParam, disk_scale, bulge_scale = vals\n",
    "\n",
    "    # Calculate vLCM and vNeros\n",
    "    vLcm = neros_fns.vLCM(galaxy_rad, galaxy_vLum)\n",
    "    vLcmList.append(vLcm)\n",
    "    vNeros = neros_fns.curve_fit_fn((galaxy_rad, galaxy_gas, galaxy_disk, galaxy_bulge),\n",
    "                                    fittedAlpha, fittedVLumFreeParam, disk_scale, bulge_scale)\n",
    "\n",
    "    # Calculate chi squared\n",
    "    chiSquare = neros_fns.chiSquared(galaxy_vObs, vNeros, galaxy_error)\n",
    "    avgChiSquared = avgChiSquared + chiSquare\n",
    "\n",
    "    # printing to file & console\n",
    "    print(f\"galaxyName is: {galaxyName}\")\n",
    "\n",
    "    print(f\"chiSquare is: {chiSquare}\")\n",
    "\n",
    "    print(f\"fittedAlpha is: {fittedAlpha}, \\nfittedVLumFreeParam is: {fittedVLumFreeParam}\")\n",
    "    \n",
    "    print(f\"disk_scale is: {disk_scale}, \\nbulge_scale is: {bulge_scale}\")\n",
    "    \n",
    "    print(f\"avgChiSquared / len(lcmGalaxies) is: {avgChiSquared / len(lcmGalaxies)}\")\n",
    "\n",
    "    print(\"--------------------------\")\n",
    "\n",
    "    # Write galaxyName, fittedAlpha, fittedVLumFreeParam to file\n",
    "    with open(out_file, 'a') as f:\n",
    "        f.write('{0},{1},{2},{3}\\n'.format(galaxyName, chiSquare, fittedAlpha, fittedVLumFreeParam))\n",
    "    f.close()\n",
    "\n",
    "    # Calculate galaxy_vObs plus error and put into list\n",
    "    galaxy_vObs_err_incl = []\n",
    "    for i in range(len(galaxy_vObs)):\n",
    "        galaxy_vObs_err_incl.append(galaxy_vObs[i] + galaxy_error[i])\n",
    "\n",
    "    # calculate new vLum\n",
    "    galaxy_vLum_updated = []\n",
    "    for i in range(len(galaxy_vLum)):\n",
    "        galaxy_vLum_updated.append(galaxy_vLum[i] * fittedVLumFreeParam)\n",
    "\n",
    "    # plot\n",
    "    # y-axis scales to the maximum velocity value in the list galaxy_vObs_err_incl\n",
    "    # or to the maximum value in the list vNeros, whichever is the bigger number\n",
    "    y_max = max(max(galaxy_vObs_err_incl), max(vNeros))\n",
    "    ax.set_ylim(bottom = 0, top = y_max + 15)\n",
    "\n",
    "    # plot vObs and vNeros and updated vLum\n",
    "    ax.plot(galaxy_rad, vNeros, label=\"{}_vNeros\".format(galaxyName))\n",
    "    ax.plot(galaxy_rad, galaxy_vObs, label=\"{}_vObs\".format(galaxyName))\n",
    "    ax.plot(galaxy_rad, galaxy_vLum_updated, label=\"{}_new_vLum\".format(galaxyName))\n",
    "\n",
    "    # error bar in vObs\n",
    "    for i in range(len(galaxy_rad)):\n",
    "        ax.vlines(galaxy_rad[i], galaxy_vObs[i] - galaxy_error[i], galaxy_vObs[i] + galaxy_error[i])\n",
    "\n",
    "    ax.legend(loc=\"upper right\")\n",
    "\n",
    "    graph_file_name = \"graphs/\" + str(galaxyName) + \"_\" + str(MW_name)\n",
    "\n",
    "    plt.savefig(graph_file_name)"
   ]
  },
  {
   "cell_type": "code",
   "execution_count": null,
   "metadata": {},
   "outputs": [],
   "source": []
  },
  {
   "cell_type": "code",
   "execution_count": null,
   "metadata": {},
   "outputs": [],
   "source": []
  },
  {
   "cell_type": "code",
   "execution_count": null,
   "metadata": {},
   "outputs": [],
   "source": []
  }
 ],
 "metadata": {
  "kernelspec": {
   "display_name": "Python 3",
   "language": "python",
   "name": "python3"
  },
  "language_info": {
   "codemirror_mode": {
    "name": "ipython",
    "version": 3
   },
   "file_extension": ".py",
   "mimetype": "text/x-python",
   "name": "python",
   "nbconvert_exporter": "python",
   "pygments_lexer": "ipython3",
   "version": "3.8.5"
  }
 },
 "nbformat": 4,
 "nbformat_minor": 4
}
