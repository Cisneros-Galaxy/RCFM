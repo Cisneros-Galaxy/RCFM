{
 "cells": [
  {
   "cell_type": "code",
   "execution_count": 15,
   "metadata": {},
   "outputs": [],
   "source": [
    "import numpy as np\n",
    "import matplotlib.pyplot as plt\n",
    "from scipy.interpolate import interp1d\n",
    "from scipy.optimize import curve_fit\n",
    "from math import sqrt\n",
    "\n",
    "import DataAid\n",
    "import Neros"
   ]
  },
  {
   "cell_type": "code",
   "execution_count": 16,
   "metadata": {},
   "outputs": [],
   "source": [
    "# Collect the data from each of the folders\n",
    "sparcGalaxies = DataAid.GetGalaxyData(\"data/Sparc/Rotmod_LTG/\")\n",
    "xueSofueGalaxies = DataAid.GetGalaxyData(\"data/XueSofue/\")\n",
    "# Get the galaxies we want from each source\n",
    "MWXueSofue = np.array(xueSofueGalaxies['MW_lum'])"
   ]
  },
  {
   "cell_type": "code",
   "execution_count": 17,
   "metadata": {},
   "outputs": [],
   "source": [
    "for galaxyName in sparcGalaxies:\n",
    "    file = open('imported-data/galaxy/{0}.csv'.format(galaxyName), 'w')\n",
    "    file.write('{}\\n'.format(galaxyName))\n",
    "    file.write('{0},{1},{2},{3},{4},{5}\\n'.format(\"rad\", \"vObs\", \"errV\", \"gas\", \"disk\", \"bulge\"))\n",
    "    \n",
    "    # extracting the information of the galaxy\n",
    "    galaxy = np.array(sparcGalaxies[galaxyName])\n",
    "    galaxy_rad = galaxy[:,0]\n",
    "    galaxy_vObs = galaxy[:,1]\n",
    "    galaxy_errV = galaxy[:,2]\n",
    "    galaxy_gas = galaxy[:,3]\n",
    "    galaxy_disk = galaxy[:,4]\n",
    "    galaxy_bulge = galaxy[:,5]\n",
    "    \n",
    "    # printing this data in csv file\n",
    "    # data will be formated like:\n",
    "    # name\n",
    "    # data name\n",
    "    # actual data\n",
    "    for i in range(len(galaxy_rad)):\n",
    "        file.write('{0},{1},{2},{3},{4},{5}\\n'.format(galaxy_rad[i], galaxy_vObs[i], galaxy_errV[i], galaxy_gas[i], galaxy_disk[i], galaxy_bulge[i]))"
   ]
  },
  {
   "cell_type": "code",
   "execution_count": null,
   "metadata": {},
   "outputs": [],
   "source": []
  }
 ],
 "metadata": {
  "kernelspec": {
   "display_name": "Python 3",
   "language": "python",
   "name": "python3"
  },
  "language_info": {
   "codemirror_mode": {
    "name": "ipython",
    "version": 3
   },
   "file_extension": ".py",
   "mimetype": "text/x-python",
   "name": "python",
   "nbconvert_exporter": "python",
   "pygments_lexer": "ipython3",
   "version": "3.7.0"
  }
 },
 "nbformat": 4,
 "nbformat_minor": 2
}
