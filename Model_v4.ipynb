{
 "cells": [
  {
   "cell_type": "markdown",
   "metadata": {},
   "source": [
    "# RCFM Model"
   ]
  },
  {
   "cell_type": "markdown",
   "metadata": {},
   "source": [
    "## 1. Import modules and helper functions"
   ]
  },
  {
   "cell_type": "code",
   "execution_count": 1,
   "metadata": {},
   "outputs": [],
   "source": [
    "# Modules\n",
    "import matplotlib.pyplot as plt\n",
    "import numpy as np\n",
    "from math import sqrt\n",
    "from scipy.optimize import curve_fit\n",
    "\n",
    "# Helper functions from DataAid.py and DataImport.py\n",
    "import DataAid\n",
    "import DataImporter\n",
    "\n",
    "# Numerically stable class of functions from Neros_v2.py\n",
    "import Neros_v4"
   ]
  },
  {
   "cell_type": "markdown",
   "metadata": {},
   "source": [
    "## 2. Load Galaxy Data"
   ]
  },
  {
   "cell_type": "code",
   "execution_count": 2,
   "metadata": {},
   "outputs": [],
   "source": [
    "# Load Galaxy Data\n",
    "sparcGalaxies = DataAid.GetGalaxyData(\"data/Sparc/Rotmod_LTG/\")\n",
    "littleDataGalaxies = DataAid.GetGalaxyData(\"data/little-data-things/data/\")\n",
    "lcmGalaxies = DataAid.GetGalaxyData(\"data/LCMFits/data/\")\n",
    "\n",
    "# Load Milky Way Model Data\n",
    "xueSofueGalaxies = DataAid.GetGalaxyData(\"data/XueSofue/\")\n",
    "mcGaughMW = DataAid.GetGalaxyData(\"data/McGaugh/\")\n",
    "\n",
    "# Create array of Milky Way radius and vlum tuples from model data\n",
    "MWXueSofue = np.array(xueSofueGalaxies['MW_lum'])\n",
    "MWMcGaugh = np.array(mcGaughMW['MW_lumMcGaugh'])\n"
   ]
  },
  {
   "cell_type": "markdown",
   "metadata": {},
   "source": [
    "## 3. Create Neros class instance"
   ]
  },
  {
   "cell_type": "code",
   "execution_count": 3,
   "metadata": {},
   "outputs": [],
   "source": [
    "# Create Neros instance to perform calculations with the supplied Milky Way model as comparison\n",
    "# Change Milky Way model by changing the variable in the parentheses\n",
    "# i.e. neros_fns = Neros_v2.Neros(MWModelVariable)\n",
    "\n",
    "neros_fns = Neros_v4.Neros(MWXueSofue)\n",
    "MW_name = \"XueSofue\" # Change this if you change the MW model in neros_fns!\n",
    "MW_rad = neros_fns.mw_rad\n",
    "MW_vLum = neros_fns.mw_vLum\n",
    "#MW_phi = neros_fns.mw_phi\n",
    "\n",
    "MW_vLum_interp_func = neros_fns.mw_vLum_interp"
   ]
  },
  {
   "cell_type": "markdown",
   "metadata": {},
   "source": [
    "## 4. Designate outfile name, initialize variables, and designate galaxy sample"
   ]
  },
  {
   "cell_type": "code",
   "execution_count": 4,
   "metadata": {},
   "outputs": [],
   "source": [
    "# This designates which galaxy sample to fit\n",
    "galaxies = lcmGalaxies\n"
   ]
  },
  {
   "cell_type": "markdown",
   "metadata": {},
   "source": [
    "## 5. Fit galaxies, print and save graphs"
   ]
  },
  {
   "cell_type": "code",
   "execution_count": null,
   "metadata": {},
   "outputs": [],
   "source": []
  },
  {
   "cell_type": "code",
   "execution_count": null,
   "metadata": {},
   "outputs": [],
   "source": []
  },
  {
   "cell_type": "code",
   "execution_count": null,
   "metadata": {},
   "outputs": [],
   "source": []
  },
  {
   "cell_type": "code",
   "execution_count": null,
   "metadata": {},
   "outputs": [],
   "source": []
  },
  {
   "cell_type": "code",
   "execution_count": null,
   "metadata": {
    "scrolled": false
   },
   "outputs": [
    {
     "name": "stderr",
     "output_type": "stream",
     "text": [
      "/Users/sophiacisneros/opt/anaconda3/lib/python3.8/site-packages/scipy/optimize/minpack.py:828: OptimizeWarning: Covariance of the parameters could not be estimated\n",
      "  warnings.warn('Covariance of the parameters could not be estimated',\n"
     ]
    },
    {
     "name": "stdout",
     "output_type": "stream",
     "text": [
      "galaxyName is: NGC3198_deBlok\n",
      "chi_squared is: 1.395070438213474\n",
      "alpha is: 188.0031904481162\n",
      "disk_scale is: 1.206889554409153\n",
      "bulge_scale is: 1.0\n",
      "phi_zero is: 3.694658858819989e-06\n",
      "--------------------------\n",
      "Running average chi_squared: 1.395070438213474\n",
      "galaxyName is: NGC2841_deBlokTHINGS\n",
      "chi_squared is: 1.3063860500096636\n",
      "alpha is: 22.049366053691376\n",
      "disk_scale is: 1.3402202753646881\n",
      "bulge_scale is: 1.1806625623166718\n",
      "phi_zero is: 4.300785293848209e-06\n",
      "--------------------------\n",
      "Running average chi_squared: 1.3507282441115689\n",
      "galaxyName is: M31_Carignan_SNC\n",
      "chi_squared is: 0.30429071077322484\n",
      "alpha is: 23.0565428828463\n",
      "disk_scale is: 1.0641779884613194\n",
      "bulge_scale is: 0.9449875546283723\n",
      "phi_zero is: 3.729889199668195e-06\n",
      "--------------------------\n",
      "Running average chi_squared: 1.0019157329987876\n"
     ]
    },
    {
     "name": "stderr",
     "output_type": "stream",
     "text": [
      "/Users/sophiacisneros/opt/anaconda3/lib/python3.8/site-packages/scipy/optimize/minpack.py:828: OptimizeWarning: Covariance of the parameters could not be estimated\n",
      "  warnings.warn('Covariance of the parameters could not be estimated',\n"
     ]
    },
    {
     "name": "stdout",
     "output_type": "stream",
     "text": [
      "galaxyName is: NGC4088_rotmod-Copy1\n",
      "chi_squared is: 0.38621046243136076\n",
      "alpha is: 149.42109451778222\n",
      "disk_scale is: 0.6585167791154707\n",
      "bulge_scale is: 1.0\n",
      "phi_zero is: 3.1919951620190414e-06\n",
      "--------------------------\n",
      "Running average chi_squared: 0.8479894153569308\n"
     ]
    },
    {
     "name": "stderr",
     "output_type": "stream",
     "text": [
      "/Users/sophiacisneros/opt/anaconda3/lib/python3.8/site-packages/scipy/optimize/minpack.py:828: OptimizeWarning: Covariance of the parameters could not be estimated\n",
      "  warnings.warn('Covariance of the parameters could not be estimated',\n"
     ]
    },
    {
     "name": "stdout",
     "output_type": "stream",
     "text": [
      "galaxyName is: NGC925_TokyCarignan_Original\n",
      "chi_squared is: 0.7878490114506516\n",
      "alpha is: 10698.145106664364\n",
      "disk_scale is: 0.6388524301191014\n",
      "bulge_scale is: 1.0\n",
      "phi_zero is: 3.9727109108056445e-06\n",
      "--------------------------\n",
      "Running average chi_squared: 0.8359613345756749\n"
     ]
    },
    {
     "name": "stderr",
     "output_type": "stream",
     "text": [
      "/Users/sophiacisneros/opt/anaconda3/lib/python3.8/site-packages/scipy/optimize/minpack.py:828: OptimizeWarning: Covariance of the parameters could not be estimated\n",
      "  warnings.warn('Covariance of the parameters could not be estimated',\n"
     ]
    },
    {
     "name": "stdout",
     "output_type": "stream",
     "text": [
      "galaxyName is: NGC7793_GentileTaM\n",
      "chi_squared is: 4.173623302788816\n",
      "alpha is: 1192.8767845884304\n",
      "disk_scale is: 1.1856950159460993\n",
      "bulge_scale is: 1.0\n",
      "phi_zero is: 4.081926881990854e-06\n",
      "--------------------------\n",
      "Running average chi_squared: 1.392238329277865\n",
      "galaxyName is: NGC2841_TaM_original\n",
      "chi_squared is: 1.2988554698142096\n",
      "alpha is: 21.898873464742064\n",
      "disk_scale is: 1.1616075629162153\n",
      "bulge_scale is: 0.9981190366197308\n",
      "phi_zero is: 4.300785293848209e-06\n",
      "--------------------------\n",
      "Running average chi_squared: 1.3788979207830572\n"
     ]
    },
    {
     "name": "stderr",
     "output_type": "stream",
     "text": [
      "/Users/sophiacisneros/opt/anaconda3/lib/python3.8/site-packages/scipy/optimize/minpack.py:828: OptimizeWarning: Covariance of the parameters could not be estimated\n",
      "  warnings.warn('Covariance of the parameters could not be estimated',\n"
     ]
    },
    {
     "name": "stdout",
     "output_type": "stream",
     "text": [
      "galaxyName is: NGC2403_deBlokThings\n",
      "chi_squared is: 1.2867002080689685\n",
      "alpha is: 372.43784774875337\n",
      "disk_scale is: 1.3445572186931087\n",
      "bulge_scale is: 1.0\n",
      "phi_zero is: 4.432909492450046e-06\n",
      "--------------------------\n",
      "Running average chi_squared: 1.367373206693796\n"
     ]
    },
    {
     "name": "stderr",
     "output_type": "stream",
     "text": [
      "/Users/sophiacisneros/opt/anaconda3/lib/python3.8/site-packages/scipy/optimize/minpack.py:828: OptimizeWarning: Covariance of the parameters could not be estimated\n",
      "  warnings.warn('Covariance of the parameters could not be estimated',\n"
     ]
    },
    {
     "name": "stdout",
     "output_type": "stream",
     "text": [
      "galaxyName is: NGC3198_GentileMaria\n",
      "chi_squared is: 1.927568169160115\n",
      "alpha is: 135.21599221046336\n",
      "disk_scale is: 1.599089599436129\n",
      "bulge_scale is: 1.0\n",
      "phi_zero is: 3.664487332755443e-06\n",
      "--------------------------\n",
      "Running average chi_squared: 1.4296170914122759\n",
      "galaxyName is: M31_Carignan_SNC2\n",
      "chi_squared is: 0.27543109252584796\n",
      "alpha is: 25.422622939233726\n",
      "disk_scale is: 1.0424938337347878\n",
      "bulge_scale is: 0.9676608323214725\n",
      "phi_zero is: 3.729889199668195e-06\n",
      "--------------------------\n",
      "Running average chi_squared: 1.314198491523633\n"
     ]
    },
    {
     "name": "stderr",
     "output_type": "stream",
     "text": [
      "/Users/sophiacisneros/opt/anaconda3/lib/python3.8/site-packages/scipy/optimize/minpack.py:828: OptimizeWarning: Covariance of the parameters could not be estimated\n",
      "  warnings.warn('Covariance of the parameters could not be estimated',\n"
     ]
    },
    {
     "name": "stdout",
     "output_type": "stream",
     "text": [
      "galaxyName is: F563_1McGaugh\n",
      "chi_squared is: 0.13167845981242854\n",
      "alpha is: 267.1097879044988\n",
      "disk_scale is: 1.6075307815430255\n",
      "bulge_scale is: 1.0\n",
      "phi_zero is: 3.392034252601659e-06\n",
      "--------------------------\n",
      "Running average chi_squared: 1.206696670458978\n"
     ]
    }
   ],
   "source": [
    "\"\"\"\n",
    "This is the main body of the model. \n",
    "It loops through galaxies in the designated sample,\n",
    "it calculates vLCM, vNeros, and chiSquared,\n",
    "it fits galaxy data using alpha and vLumFreeParam,\n",
    "it prints the values of alpha and vLumFreeParam to the console,\n",
    "and it saves the graphs to a file.\n",
    "\"\"\"\n",
    "\n",
    "# This is where the fitted alpha & vlum free parameter will be written for each galaxy\n",
    "out_file = \"imported-data/data_\" + str(MW_name) + \".csv\"\n",
    "with open(out_file, 'w') as f:\n",
    "    f.write('{0},{1},{2},{3},{4},{5}\\n'.format(\"Galaxy\", \"chi_square\",  \"alpha\", \"disk_scale\", \"bulge_scale\",\"phi_zero\"))\n",
    "f.close()\n",
    "\n",
    "total_chi_squared = []\n",
    "\n",
    "\n",
    "for galaxyName in galaxies:\n",
    "    f, ax = plt.subplots(1, figsize = (15, 15))\n",
    "    \n",
    "    # Extract out the needed galaxy components\n",
    "    galaxy = np.array(galaxies[galaxyName])\n",
    "    galaxy_rad = galaxy[:,0]\n",
    "    galaxy_vObs = galaxy[:,1]\n",
    "    galaxy_error = galaxy[:,2]\n",
    "    galaxy_gas = galaxy[:,3]\n",
    "    galaxy_disk = galaxy[:,4]\n",
    "    galaxy_bulge = galaxy[:,5]\n",
    "\n",
    "    # Just fit then extract the relevant pieces\n",
    "    neros_fns.fit(galaxy_rad, galaxy_gas, galaxy_disk, galaxy_bulge, galaxy_vObs, galaxy_error)\n",
    "\n",
    "    print(f\"galaxyName is: {galaxyName}\")\n",
    "    fit_results = neros_fns.get_fit_results(galaxy_rad)\n",
    "    for param in fit_results:\n",
    "        print(f\"{param} is: {fit_results[param]}\")\n",
    "    print(\"--------------------------\")\n",
    "    \n",
    "    total_chi_squared.append(fit_results['chi_squared'])\n",
    "    \n",
    "    print(\"Running average chi_squared: {}\".format(sum(total_chi_squared)/len(total_chi_squared)))\n",
    "\n",
    "    \n",
    "    # Write galaxyName, fitted parameters\n",
    "    with open(out_file, 'a') as f:\n",
    "        f.write(f\"{galaxyName},{fit_results['chi_squared']},{fit_results['alpha']}, \\\n",
    "                {fit_results['disk_scale']},{fit_results['bulge_scale']},{fit_results['phi_zero']} \\n\")\n",
    "    f.close()\n",
    "\n",
    "    trimmed_rad = neros_fns.get_rad()\n",
    "    trimmed_vLum_updated = neros_fns.get_vLum_scaled()\n",
    "    trimmed_vObs = neros_fns.get_vObs()\n",
    "    trimmed_error = neros_fns.get_vObsError()\n",
    "    vNeros = neros_fns.get_vNeros()\n",
    "    \n",
    "    # plot\n",
    "    # y-axis scales to the maximum velocity value in the list galaxy_vObs_err_incl\n",
    "    # or to the maximum value in the list vNeros, whichever is the bigger number\n",
    "    y_max = max(max(trimmed_vObs + trimmed_error), max(vNeros))\n",
    "    ax.set_ylim(bottom = 0, top = y_max + 15)\n",
    "\n",
    "    # plot vObs and vNeros and updated vLum\n",
    "    ax.plot(trimmed_rad, vNeros, label=\"{}_vNeros\".format(galaxyName))\n",
    "    ax.plot(trimmed_rad, trimmed_vObs, label=\"{}_vObs\".format(galaxyName))\n",
    "    ax.plot(trimmed_rad, trimmed_vLum_updated, label=\"{}_new_vLum\".format(galaxyName))\n",
    "    ax.plot([],[], ' ', label=\"$\\chi^2$ = {}\".format(fit_results['chi_squared']))\n",
    "\n",
    "    # error bar in vObs\n",
    "    for i in range(len(trimmed_rad)):\n",
    "        ax.vlines(trimmed_rad[i], trimmed_vObs[i] - trimmed_error[i], trimmed_vObs[i] + trimmed_error[i])\n",
    "\n",
    "    ax.legend(loc=\"upper right\")\n",
    "\n",
    "    graph_file_name = \"graphs/\" + str(galaxyName) + \"_\" + str(MW_name)\n",
    "\n",
    "    plt.savefig(graph_file_name)\n"
   ]
  }
 ],
 "metadata": {
  "kernelspec": {
   "display_name": "Python 3",
   "language": "python",
   "name": "python3"
  },
  "language_info": {
   "codemirror_mode": {
    "name": "ipython",
    "version": 3
   },
   "file_extension": ".py",
   "mimetype": "text/x-python",
   "name": "python",
   "nbconvert_exporter": "python",
   "pygments_lexer": "ipython3",
   "version": "3.8.5"
  }
 },
 "nbformat": 4,
 "nbformat_minor": 4
}
